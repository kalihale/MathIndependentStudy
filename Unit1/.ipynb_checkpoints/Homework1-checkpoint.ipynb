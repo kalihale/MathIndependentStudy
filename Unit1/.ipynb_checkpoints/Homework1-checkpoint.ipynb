{
 "cells": [
  {
   "cell_type": "markdown",
   "metadata": {},
   "source": [
    "Setup for Python"
   ]
  },
  {
   "cell_type": "code",
   "execution_count": 115,
   "metadata": {
    "pycharm": {
     "name": "#%%\n"
    }
   },
   "outputs": [],
   "source": [
    "import random"
   ]
  },
  {
   "cell_type": "markdown",
   "metadata": {},
   "source": [
    "## Elevator Problem\n",
    "This defines the elevator function, which uses the random library to tell us whether an elevator is coming up or going down. If we test this, we can see that the expected value is very close to the data given to us."
   ]
  },
  {
   "cell_type": "code",
   "execution_count": 116,
   "metadata": {
    "pycharm": {
     "name": "#%%\n"
    }
   },
   "outputs": [
    {
     "name": "stdout",
     "output_type": "stream",
     "text": [
      "Expected value:  0.8333333333333334\n",
      "Actual value:  0.83612\n"
     ]
    }
   ],
   "source": [
    "def elevator():\n",
    "    if random.randrange(1,7) <= 5:\n",
    "        return True\n",
    "    else:\n",
    "        return False\n",
    "\n",
    "N = 100000\n",
    "data = [elevator() for i in range(N)]\n",
    "print(\"Expected value: \", 5/6)\n",
    "print(\"Actual value: \", sum(data)/N)"
   ]
  },
  {
   "cell_type": "markdown",
   "metadata": {},
   "source": [
    "Now the question is, how do we calculate using two elevators? Assuming there is a 1/2 chance for each of the elevators to get there first:"
   ]
  },
  {
   "cell_type": "code",
   "execution_count": 118,
   "metadata": {
    "pycharm": {
     "name": "#%%\n"
    }
   },
   "outputs": [
    {
     "name": "stdout",
     "output_type": "stream",
     "text": [
      "0.83612\n"
     ]
    }
   ],
   "source": [
    "def twoElevators():\n",
    "    e1 = elevator()\n",
    "    e2 = elevator()\n",
    "    # Decide which elevator shows up first\n",
    "    first = random.randrange(1,3)\n",
    "    if first == 1:\n",
    "        if e1:\n",
    "            return True\n",
    "        else:\n",
    "            return False\n",
    "    else:\n",
    "        if e2:\n",
    "            return True\n",
    "        else:\n",
    "            return False\n",
    "\n",
    "N = 100000\n",
    "data2 = [twoElevators() for i in range(N)]\n",
    "print(sum(data)/N)"
   ]
  }
 ],
 "metadata": {
  "kernelspec": {
   "display_name": "Python 3 (ipykernel)",
   "language": "python",
   "name": "python3"
  },
  "language_info": {
   "codemirror_mode": {
    "name": "ipython",
    "version": 3
   },
   "file_extension": ".py",
   "mimetype": "text/x-python",
   "name": "python",
   "nbconvert_exporter": "python",
   "pygments_lexer": "ipython3",
   "version": "3.8.10"
  }
 },
 "nbformat": 4,
 "nbformat_minor": 1
}
