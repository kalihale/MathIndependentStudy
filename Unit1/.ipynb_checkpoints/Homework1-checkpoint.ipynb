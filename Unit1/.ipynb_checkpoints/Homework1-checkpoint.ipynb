{
 "cells": [
  {
   "cell_type": "markdown",
   "metadata": {},
   "source": [
    "Setup for Python"
   ]
  },
  {
   "cell_type": "code",
   "execution_count": 16,
   "metadata": {
    "pycharm": {
     "name": "#%%\n"
    }
   },
   "outputs": [],
   "source": [
    "import random\n",
    "import matplotlib.pyplot as plt\n",
    "import numpy as np\n",
    "import math"
   ]
  },
  {
   "cell_type": "markdown",
   "metadata": {},
   "source": [
    "## Elevator Problem\n",
    "\n",
    "This defines the elevator function, which uses the random library to tell us whether an elevator is coming up or going down when a person presses the button at the second floor.\n",
    "\n",
    "This code returns `False` if the elevator is on the first floor (and therefore, the first elevator to the second floor will be going up) and `True` otherwise."
   ]
  },
  {
   "cell_type": "code",
   "execution_count": 17,
   "metadata": {
    "pycharm": {
     "name": "#%%\n"
    }
   },
   "outputs": [
    {
     "name": "stdout",
     "output_type": "stream",
     "text": [
      "Expected value:  0.8333333333333334\n",
      "Actual value:  0.83414\n"
     ]
    }
   ],
   "source": [
    "def elevator():\n",
    "    if random.randrange(1,7) == 1:\n",
    "        return False\n",
    "    else:\n",
    "        return True\n",
    "\n",
    "N = 100000\n",
    "data = [elevator() for i in range(N)]\n",
    "print(\"Expected value: \", 5/6)\n",
    "print(\"Actual value: \", sum(data)/N)"
   ]
  },
  {
   "cell_type": "markdown",
   "metadata": {},
   "source": [
    "We can see that the actual value is very close to the expected value, which tells us that the code is working properly.\n",
    "\n",
    "Now we have to generate numbers for two elevators. To do so, we decide which floor each elevator is on (excluding the second floor) and then check whether any of the elevators are on the first floor. This code will return `True` if an elevator is on the first floor, so to get our probability, we have to subtract the probability of an elevator being on the first floor from the probability of everything (1)."
   ]
  },
  {
   "cell_type": "code",
   "execution_count": 18,
   "metadata": {
    "pycharm": {
     "name": "#%%\n"
    }
   },
   "outputs": [
    {
     "name": "stdout",
     "output_type": "stream",
     "text": [
      "Expected Value:  0.7222222222222222\n",
      "Actual Value:  0.69156\n"
     ]
    }
   ],
   "source": [
    "def elevator2(num):\n",
    "    return [random.randrange(1,7) for j in range(num)]\n",
    "\n",
    "def experiment(elevs):\n",
    "    return any(y == 1 for y in elevs)\n",
    "\n",
    "\n",
    "N = 100000\n",
    "data2 = [experiment(elevator2(2)) for i in range(N)]\n",
    "print(\"Expected Value: \", 13/18)\n",
    "print(\"Actual Value: \", 1 - sum(data2)/N)"
   ]
  },
  {
   "cell_type": "markdown",
   "metadata": {
    "pycharm": {
     "name": "#%% md\n"
    }
   },
   "source": [
    "Finally, in this section, I tested how likely it would be that the first elevator was going down if there were three elevators in the building."
   ]
  },
  {
   "cell_type": "code",
   "execution_count": 19,
   "metadata": {
    "pycharm": {
     "name": "#%%\n"
    }
   },
   "outputs": [
    {
     "name": "stdout",
     "output_type": "stream",
     "text": [
      "0.57687\n"
     ]
    }
   ],
   "source": [
    "N = 100000\n",
    "data3 = [experiment(elevator2(3)) for i in range(N)]\n",
    "print(1 - sum(data3)/N)"
   ]
  },
  {
   "cell_type": "markdown",
   "metadata": {},
   "source": [
    "## The Forgetful Burglar\n",
    "\n",
    "We know that the burglar has an equal chance of moving backwards or forwards, and from each of those, the burglar has an equal chance of moving one or two spaces. I chose to select whether the burglar would move forwards or backwards first, then choose whether she would move one or two spaces in that direction (and as we know from statistics, 1/2 chance of moving left or right * 1/2 chance of moving one or two spaces = 1/4, which is correct because we know that there are 4 potential places for the burglar to go)."
   ]
  },
  {
   "cell_type": "code",
   "execution_count": 20,
   "metadata": {
    "pycharm": {
     "name": "#%%\n"
    }
   },
   "outputs": [
    {
     "name": "stdout",
     "output_type": "stream",
     "text": [
      "Mean =  3.8195\n",
      "steps \t probability\n",
      "2 \t\t 0.2541\n",
      "3 \t\t 0.2788\n",
      "4 \t\t 0.1983\n",
      "5 \t\t 0.1196\n",
      "6 \t\t 0.0625\n",
      "7 \t\t 0.0387\n"
     ]
    },
    {
     "data": {
      "image/png": "[encoded data removed]",
      "text/plain": [
       "<Figure size 432x288 with 1 Axes>"
      ]
     },
     "metadata": {
      "needs_background": "light"
     },
     "output_type": "display_data"
    }
   ],
   "source": [
    "def experiment():\n",
    "    location = 0\n",
    "    visited = []\n",
    "    moves = 0\n",
    "    while location not in visited:\n",
    "        visited.append(location)\n",
    "        addorsub = random.randrange(0, 2)\n",
    "        if addorsub == 0:\n",
    "            location -= random.randrange(1,3)\n",
    "        else:\n",
    "            location += random.randrange(1,3)\n",
    "        moves += 1\n",
    "    return moves\n",
    "\n",
    "N = 10000\n",
    "data4 = [experiment() for i in range(N)]\n",
    "print(\"Mean = \", sum(data4)/N)\n",
    "\n",
    "print(\"steps \\t probability\")\n",
    "print(2, \"\\t\\t\", data4.count(2)/N)\n",
    "print(3, \"\\t\\t\", data4.count(3)/N)\n",
    "print(4, \"\\t\\t\", data4.count(4)/N)\n",
    "print(5, \"\\t\\t\", data4.count(5)/N)\n",
    "print(6, \"\\t\\t\", data4.count(6)/N)\n",
    "print(7, \"\\t\\t\", data4.count(7)/N)\n",
    "\n",
    "df = plt.hist(data4)"
   ]
  },
  {
   "cell_type": "markdown",
   "metadata": {},
   "source": [
    "Here, we can see that the burglar has a greater than one in two chance of being caught in three or fewer moves, and the burglar will be caught in five steps or fewer about 4 out of every 5 times."
   ]
  },
  {
   "cell_type": "markdown",
   "metadata": {},
   "source": [
    "## Parrondo's Paradox\n",
    "\n",
    "In both of these games, if the coin lands heads up, the player gains one dollar, and if the coin lands tails up, the player loses a dollar.\n",
    "\n",
    "This first section defines game B. In game B, if the amount of money that the player has is a multiple of 3, they flip the first coin, which has a $.1 - \\epsilon$ chance of landing heads. Otherwise, they flip coin B, which has a $.75 - \\epsilon$ chance of landing heads. In this case, $\\epsilon = 0.005$"
   ]
  },
  {
   "cell_type": "code",
   "execution_count": 21,
   "metadata": {
    "pycharm": {
     "name": "#%%\n"
    }
   },
   "outputs": [],
   "source": [
    "def gameB(M):\n",
    "    # if capital is a multiple of 3, choose coin A\n",
    "    if M % 3 == 0:\n",
    "        # If heads, you win\n",
    "        if random.random() <= .1 - 0.005:\n",
    "            return True\n",
    "        # If tails, you lose\n",
    "        else:\n",
    "            return False\n",
    "    # Otherwise, choose coin B\n",
    "    else:\n",
    "        # If heads, you win\n",
    "        if random.random() <= .75 - 0.005:\n",
    "            return True\n",
    "        # If tails, you lose\n",
    "        else:\n",
    "            return False\n"
   ]
  },
  {
   "cell_type": "markdown",
   "metadata": {},
   "source": [
    "This code cell defines game A. In game A, the player flips one coin, which has a $.5 - \\epsilon$ chance of landing heads."
   ]
  },
  {
   "cell_type": "code",
   "execution_count": 22,
   "metadata": {
    "pycharm": {
     "name": "#%%\n"
    }
   },
   "outputs": [],
   "source": [
    "def gameA():\n",
    "    if random.random() < .5 - 0.005:\n",
    "        return True\n",
    "    else:\n",
    "        return False"
   ]
  },
  {
   "cell_type": "markdown",
   "metadata": {},
   "source": [
    "This code cell defines the game switching between A and B. There is a 50% chance of choosing each game."
   ]
  },
  {
   "cell_type": "code",
   "execution_count": 23,
   "metadata": {
    "pycharm": {
     "name": "#%%\n"
    }
   },
   "outputs": [
    {
     "data": {
      "image/png": "[encoded data removed]",
      "text/plain": [
       "<Figure size 432x288 with 1 Axes>"
      ]
     },
     "metadata": {
      "needs_background": "light"
     },
     "output_type": "display_data"
    }
   ],
   "source": [
    "def coinExperiment(M, l):\n",
    "    games = []\n",
    "    for i in range(l):\n",
    "        if random.randrange(0,2) == 1:\n",
    "            # play gameB\n",
    "            outcome = gameB(M)\n",
    "        else:\n",
    "            # Play gameA\n",
    "            outcome = gameA()\n",
    "        # If the outcome is heads, gain a dollar\n",
    "        if outcome:\n",
    "            M += 1\n",
    "        # If the outcome is tails, lose a dollar\n",
    "        else:\n",
    "            M -= 1\n",
    "        games.append(M)\n",
    "    return games\n",
    "\n",
    "play = [coinExperiment(0, 100) for i in range(10000)]\n",
    "\n",
    "x = range(0,100)\n",
    "y = np.average(play, axis=0)\n",
    "fig, ax = plt.subplots()\n",
    "\n",
    "ax.plot(x,y,linewidth = 1.0)\n",
    "plt.show()"
   ]
  },
  {
   "cell_type": "markdown",
   "metadata": {},
   "source": [
    "The outcome of this game is odd because, on average, this is a winning game. This doesn't seem like the outcome, because both games, on their own, are losing games."
   ]
  },
  {
   "cell_type": "markdown",
   "metadata": {},
   "source": [
    "## Monte Carlo Integration"
   ]
  },
  {
   "cell_type": "markdown",
   "metadata": {},
   "source": [
    "Problem 1: Estimate area under the graph of $f(x) = x^3 - x$ between -1 and 0"
   ]
  },
  {
   "cell_type": "code",
   "execution_count": 24,
   "metadata": {
    "pycharm": {
     "name": "#%%\n"
    }
   },
   "outputs": [
    {
     "name": "stdout",
     "output_type": "stream",
     "text": [
      "0.2498172\n"
     ]
    }
   ],
   "source": [
    "def area1():\n",
    "    randomY = random.random() * (1 - 0)\n",
    "    randomX = random.random() * (-1 - 0)\n",
    "    if randomY < math.pow(randomX, 3) - randomX:\n",
    "        return True\n",
    "    else:\n",
    "        return False\n",
    "\n",
    "N = 10000000\n",
    "print(sum([area1() for i in range(N)])/N)"
   ]
  },
  {
   "cell_type": "markdown",
   "metadata": {},
   "source": [
    "Problem 2: Estimate the area under the graph of $f(x) = e^{-x}$ from $x=0$ to $x=1$, $x=10$, and $x=100$"
   ]
  },
  {
   "cell_type": "code",
   "execution_count": 25,
   "metadata": {
    "pycharm": {
     "name": "#%%\n"
    }
   },
   "outputs": [
    {
     "name": "stdout",
     "output_type": "stream",
     "text": [
      "0.63208767\n",
      "0.9999239999999999\n",
      "0.999431\n"
     ]
    }
   ],
   "source": [
    "# def highestY(x):\n",
    "#     highest = 0\n",
    "#     newRange = x * 100\n",
    "#     for i in range(newRange):\n",
    "#         if math.exp(-i/100) > highest:\n",
    "#             highest = math.exp(-i/100)\n",
    "#     return highest\n",
    "\n",
    "def findArea(y, x):\n",
    "    randomY = random.random() * y\n",
    "    randomX = random.random() * x\n",
    "    if randomY < math.exp(-randomX):\n",
    "        return True\n",
    "    else:\n",
    "        return False\n",
    "\n",
    "N = 100000000\n",
    "# highesty1 = highestY(1)\n",
    "# highestY10 = highestY(10)\n",
    "# highestY100 = highestY(100)\n",
    "print(sum([findArea(1, 1) for i in range(N)])/N)\n",
    "print((sum([findArea(1, 10) for i in range(N)])/N) * 10)\n",
    "print((sum([findArea(1, 100) for i in range(N)])/N) * 100)"
   ]
  },
  {
   "cell_type": "markdown",
   "metadata": {},
   "source": [
    "Problem 3: Estimate area under curve $f(x) = \\frac{1}{\\sqrt{2\\pi}}e^{-x^2/2}$ from -1 to 1 and from -2 to 2"
   ]
  },
  {
   "cell_type": "code",
   "execution_count": 26,
   "metadata": {
    "pycharm": {
     "name": "#%%\n"
    }
   },
   "outputs": [
    {
     "name": "stdout",
     "output_type": "stream",
     "text": [
      "0.682774\n",
      "0.95460032\n"
     ]
    }
   ],
   "source": [
    "def findArea(top, bottom, left, right):\n",
    "    randomY = random.random() * (top - bottom) + bottom\n",
    "    randomX = random.random() * (right - left) + left\n",
    "    if randomY < (1 / math.sqrt(2 * math.pi)) * math.exp(- math.pow(randomX, 2) / 2):\n",
    "        return True\n",
    "    else:\n",
    "        return False\n",
    "\n",
    "N = 100000000\n",
    "print(sum([findArea(1, 0, -1, 1) for i in range(N)])/N * (1 + 1))\n",
    "print(sum([findArea(1, 0, -2, 2) for i in range(N)])/N * (2 + 2))"
   ]
  },
  {
   "cell_type": "markdown",
   "metadata": {},
   "source": [
    "Problem 4: In order to estimate the area under the curve from $x = -\\infty$ to $x = 1$, I would find the area under the curve from -4 to 4, -6 to 6, -10 to 10, and see what that number is approaching and then divide by two and add half of the area from -1 to 1."
   ]
  },
  {
   "cell_type": "code",
   "execution_count": null,
   "metadata": {
    "pycharm": {
     "is_executing": true,
     "name": "#%%\n"
    }
   },
   "outputs": [
    {
     "name": "stdout",
     "output_type": "stream",
     "text": [
      "0.9996959\n"
     ]
    }
   ],
   "source": [
    "print(sum([findArea(1, 0, -5, 5) for i in range(N)])/N * 10)\n",
    "print(sum([findArea(1, 0, -7, 7) for i in range(N)])/N * 14)\n",
    "print(sum([findArea(1, 0, -10, 10) for i in range(N)])/N * 20)"
   ]
  },
  {
   "cell_type": "markdown",
   "metadata": {},
   "source": [
    "This appears to be approaching $1$, so let's do the calculation."
   ]
  },
  {
   "cell_type": "code",
   "execution_count": 15,
   "metadata": {
    "pycharm": {
     "name": "#%%\n"
    }
   },
   "outputs": [
    {
     "name": "stdout",
     "output_type": "stream",
     "text": [
      "0.8413655800000001\n"
     ]
    }
   ],
   "source": [
    "print((sum([findArea(1, 0, -10, 10) for i in range(N)])/N * 20) / 2 + (sum([findArea(1, 0, -1, 1) for i in range(N)])/N * 2) / 2)"
   ]
  },
  {
   "cell_type": "markdown",
   "metadata": {},
   "source": [
    "So I would say that the area is somewhere around $0.84$."
   ]
  },
  {
   "cell_type": "markdown",
   "metadata": {},
   "source": []
  }
 ],
 "metadata": {
  "kernelspec": {
   "display_name": "Python 3 (ipykernel)",
   "language": "python",
   "name": "python3"
  },
  "language_info": {
   "codemirror_mode": {
    "name": "ipython",
    "version": 3
   },
   "file_extension": ".py",
   "mimetype": "text/x-python",
   "name": "python",
   "nbconvert_exporter": "python",
   "pygments_lexer": "ipython3",
   "version": "3.9.7"
  }
 },
 "nbformat": 4,
 "nbformat_minor": 1
}
