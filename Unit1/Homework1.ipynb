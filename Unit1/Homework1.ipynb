{
 "cells": [
  {
   "cell_type": "markdown",
   "metadata": {},
   "source": [
    "Setup for Python"
   ]
  },
  {
   "cell_type": "code",
   "execution_count": 36,
   "metadata": {
    "pycharm": {
     "name": "#%%\n"
    }
   },
   "outputs": [],
   "source": [
    "import random\n",
    "import matplotlib.pyplot as plt"
   ]
  },
  {
   "cell_type": "markdown",
   "metadata": {},
   "source": [
    "## Elevator Problem\n",
    "This defines the elevator function, which uses the random library to tell us whether an elevator is coming up or going down. If we test this, we can see that the expected value is very close to the data given to us."
   ]
  },
  {
   "cell_type": "code",
   "execution_count": 37,
   "metadata": {
    "pycharm": {
     "name": "#%%\n"
    }
   },
   "outputs": [
    {
     "name": "stdout",
     "output_type": "stream",
     "text": [
      "Expected value:  0.8333333333333334\n",
      "Actual value:  0.83509\n"
     ]
    }
   ],
   "source": [
    "def elevator():\n",
    "    if random.randrange(1,7) == 1:\n",
    "        return False\n",
    "    else:\n",
    "        return True\n",
    "\n",
    "N = 100000\n",
    "data = [elevator() for i in range(N)]\n",
    "print(\"Expected value: \", 5/6)\n",
    "print(\"Actual value: \", sum(data)/N)"
   ]
  },
  {
   "cell_type": "markdown",
   "metadata": {},
   "source": [
    "Now the question is, how do we calculate using two elevators? The problem tells us that the elevators are at a random point in their cycle, so we'll assign numbers to the floors both going up and going down so that we can keep track of where they are."
   ]
  },
  {
   "cell_type": "code",
   "execution_count": 38,
   "metadata": {
    "pycharm": {
     "name": "#%%\n"
    }
   },
   "outputs": [
    {
     "name": "stdout",
     "output_type": "stream",
     "text": [
      "0.6959\n"
     ]
    }
   ],
   "source": [
    "def elevator2(num):\n",
    "    return [random.randrange(1,7) for j in range(num)]\n",
    "\n",
    "def experiment(elevs):\n",
    "    return any(y == 1 for y in elevs)\n",
    "\n",
    "\n",
    "N = 100000\n",
    "data2 = [experiment(elevator2(2)) for i in range(N)]\n",
    "print(1 - sum(data2)/N)"
   ]
  },
  {
   "cell_type": "code",
   "execution_count": 39,
   "outputs": [
    {
     "name": "stdout",
     "output_type": "stream",
     "text": [
      "0.58129\n"
     ]
    }
   ],
   "source": [
    "N = 100000\n",
    "data3 = [experiment(elevator2(3)) for i in range(N)]\n",
    "print(1 - sum(data3)/N)"
   ],
   "metadata": {
    "collapsed": false,
    "pycharm": {
     "name": "#%%\n"
    }
   }
  },
  {
   "cell_type": "markdown",
   "source": [
    "## The Forgetful Burglar\n",
    "\n",
    "In this problem, I chose to store the locations visited in a list. If I was going to do this in another language, I might choose a different data structure, but this works well in Python.\n",
    "\n",
    "We know that the burglar has an equal chance of moving backwards or forwards, and from each of those, the burglar has an equal chance of moving one or two spaces. I chose to select whether the burglar would move forwards or backwards first, then choose whether she would move one or two spaces in that direction (and as we know from statistics, 1/2 chance of moving left or right * 1/2 chance of moving one or two spaces = 1/4, which is correct because we know that there are 4 potential places for the burglar to go). I chose to do it this way because I realized it would be difficult to make randrange either a) select between -2 and 2 inclusive while excluding 0 or b) select between 4 consecutive numbers and decide when to add and when to subtract and by how much. Easier to just add an if/else and be done with it, especially since we aren't particularly attempting to conserve memory or space like we might do on firmware."
   ],
   "metadata": {
    "collapsed": false
   }
  },
  {
   "cell_type": "code",
   "execution_count": 40,
   "outputs": [
    {
     "name": "stdout",
     "output_type": "stream",
     "text": [
      "Mean =  3.8524\n",
      "steps \t probability\n",
      "2 \t\t 0.2496\n",
      "3 \t\t 0.2817\n",
      "4 \t\t 0.1985\n",
      "5 \t\t 0.1154\n",
      "6 \t\t 0.0644\n",
      "7 \t\t 0.0385\n"
     ]
    },
    {
     "data": {
      "text/plain": "<Figure size 432x288 with 1 Axes>",
      "image/png": "[encoded data removed]"
     },
     "metadata": {
      "needs_background": "light"
     },
     "output_type": "display_data"
    }
   ],
   "source": [
    "def experiment():\n",
    "    location = 0\n",
    "    visited = []\n",
    "    moves = 0\n",
    "    while location not in visited:\n",
    "        visited.append(location)\n",
    "        addorsub = random.randrange(0, 2)\n",
    "        if addorsub == 0:\n",
    "            location -= random.randrange(1,3)\n",
    "        else:\n",
    "            location += random.randrange(1,3)\n",
    "        moves += 1\n",
    "    return moves\n",
    "\n",
    "N = 10000\n",
    "data4 = [experiment() for i in range(N)]\n",
    "print(\"Mean = \", sum(data4)/N)\n",
    "\n",
    "print(\"steps \\t probability\")\n",
    "print(2, \"\\t\\t\", data4.count(2)/N)\n",
    "print(3, \"\\t\\t\", data4.count(3)/N)\n",
    "print(4, \"\\t\\t\", data4.count(4)/N)\n",
    "print(5, \"\\t\\t\", data4.count(5)/N)\n",
    "print(6, \"\\t\\t\", data4.count(6)/N)\n",
    "print(7, \"\\t\\t\", data4.count(7)/N)\n",
    "\n",
    "df = plt.hist(data4)"
   ],
   "metadata": {
    "collapsed": false,
    "pycharm": {
     "name": "#%%\n"
    }
   }
  },
  {
   "cell_type": "markdown",
   "source": [
    "## Parrondo's Paradox"
   ],
   "metadata": {
    "collapsed": false
   }
  },
  {
   "cell_type": "code",
   "execution_count": 41,
   "outputs": [],
   "source": [
    "def gameB(M):\n",
    "    for i in range(100):\n",
    "        if M % 3 == 0:\n",
    "            if random.randrange(1,101)/100 <= .1 - 0.005:\n",
    "                return True\n",
    "            else:\n",
    "                return False\n",
    "        else:\n",
    "            if random.randrange(1,101)/100 <= .75 - 0.005:\n",
    "                return True\n",
    "            else:\n",
    "                return False\n",
    "\n",
    "M = 100000\n",
    "N = 10000\n",
    "mArr = []\n"
   ],
   "metadata": {
    "collapsed": false,
    "pycharm": {
     "name": "#%%\n"
    }
   }
  }
 ],
 "metadata": {
  "kernelspec": {
   "display_name": "Python 3 (ipykernel)",
   "language": "python",
   "name": "python3"
  },
  "language_info": {
   "codemirror_mode": {
    "name": "ipython",
    "version": 3
   },
   "file_extension": ".py",
   "mimetype": "text/x-python",
   "name": "python",
   "nbconvert_exporter": "python",
   "pygments_lexer": "ipython3",
   "version": "3.8.10"
  }
 },
 "nbformat": 4,
 "nbformat_minor": 1
}