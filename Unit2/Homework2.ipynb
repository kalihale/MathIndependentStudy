{
 "cells": [
  {
   "cell_type": "markdown",
   "metadata": {
    "collapsed": true,
    "pycharm": {
     "name": "#%% md\n"
    }
   },
   "source": [
    "# Homework 2: Random Walks and Related Creatures\n",
    "\n",
    "First, imports:"
   ]
  },
  {
   "cell_type": "code",
   "source": [
    "import random\n",
    "import matplotlib.pyplot as plt\n",
    "import numpy as np\n",
    "import math"
   ],
   "metadata": {
    "collapsed": false,
    "pycharm": {
     "name": "#%%\n"
    }
   },
   "execution_count": 24,
   "outputs": []
  },
  {
   "cell_type": "markdown",
   "source": [
    "1. A gambler with 100 is placing bets. On each bet, the gambler wins 1 with\n",
    "probability p or loses 1 with probability q = 1 − p. If the gambler reaches 200,\n",
    "they cash out, and if they reach 0, they go broke; in either of these cases they\n",
    "stop playing.\n",
    "(a) If p = 0.5, what is the probability that the gambler goes broke? When the\n",
    "gambler goes broke, on average how long does that take?"
   ],
   "metadata": {
    "collapsed": false
   }
  },
  {
   "cell_type": "code",
   "execution_count": 25,
   "outputs": [
    {
     "name": "stdout",
     "output_type": "stream",
     "text": [
      "Probability of going broke with p = 0.5:  0.49999\n",
      "Average number of rounds before going broke:  4989.1635\n"
     ]
    }
   ],
   "source": [
    "def bet(p):\n",
    "    # Winning condition\n",
    "    if random.random() <= p:\n",
    "        return True\n",
    "    # Otherwise, you lose a dollar\n",
    "    else:\n",
    "        return False\n",
    "\n",
    "def experiment(M, p):\n",
    "    bets = 0\n",
    "    # While the gambler has less money than $200 and is not broke\n",
    "    while 0 < M < 200:\n",
    "        # If the gambler wins the bet, add a dollar\n",
    "        if bet(p):\n",
    "            M += 1\n",
    "        # If the gambler loses the bet, subtract a dollar\n",
    "        else:\n",
    "            M -= 1\n",
    "        # Count the number of rounds\n",
    "        bets += 1\n",
    "    # If gambler goes broke\n",
    "    if M == 0:\n",
    "        return bets, True\n",
    "    # If the gambler gets to $200\n",
    "    else:\n",
    "        return bets, False\n",
    "\n",
    "money = 100\n",
    "prob = 0.5\n",
    "N = 100000\n",
    "data = [experiment(money, prob) for i in range(N)]\n",
    "# For calculating the probability that the gambler goes broke\n",
    "broke = []\n",
    "# Number of rounds until the gambler went broke\n",
    "roundsToBroke = []\n",
    "for i in data:\n",
    "    # Append all times the gambler either went broke or got to $200 to this array\n",
    "    broke.append(i[1])\n",
    "    # If the gambler went broke, append the number of rounds it took to get to broke\n",
    "    if i[1]:\n",
    "        roundsToBroke.append(i[0])\n",
    "print(\"Probability of going broke with p = 0.5: \", sum(broke)/N)\n",
    "print(\"Average number of rounds before going broke: \", sum(roundsToBroke)/N)"
   ],
   "metadata": {
    "collapsed": false,
    "pycharm": {
     "name": "#%%\n"
    }
   }
  },
  {
   "cell_type": "markdown",
   "source": [
    "(b) If p = 0.3, same question."
   ],
   "metadata": {
    "collapsed": false
   }
  },
  {
   "cell_type": "code",
   "execution_count": 26,
   "outputs": [
    {
     "name": "stdout",
     "output_type": "stream",
     "text": [
      "Probability of going broke with p = 0.3:  1.0\n",
      "Average number of rounds before going broke:  250.15562\n"
     ]
    }
   ],
   "source": [
    "money = 100\n",
    "prob = 0.3\n",
    "N = 100000\n",
    "data = [experiment(money, prob) for i in range(N)]\n",
    "broke = []\n",
    "roundsToBroke = []\n",
    "for i in data:\n",
    "    broke.append(i[1])\n",
    "    if i[1]:\n",
    "        roundsToBroke.append(i[0])\n",
    "print(\"Probability of going broke with p = 0.3: \", sum(broke)/N)\n",
    "print(\"Average number of rounds before going broke: \", sum(roundsToBroke)/N)"
   ],
   "metadata": {
    "collapsed": false,
    "pycharm": {
     "name": "#%%\n"
    }
   }
  },
  {
   "cell_type": "markdown",
   "source": [
    "2. Prices of certain financial instruments are modeled by a type of random walk called\n",
    "Brownian motion. These models date back to Bachelier’s now-famous paper in\n",
    "1900, Theorie de la speculation, which detailed the first use of stochastic models\n",
    "in modeling the price of stock options. In this problem, you’ll take a look at a\n",
    "simple stock option, but we’ll describe it as a bet.\n",
    "There is a changing number S (score? stock?) we are tracking, and you are\n",
    "betting on what this number will be in thirty days. The number increases by 1\n",
    "with probability p or decreases by 1 with probability q = 1 − p each day. You may\n",
    "place a bet right now on what this number will be at the end of 30 days; you have\n",
    "to pay B to place the bet. If the number S is greater than 110, you win S − 110.\n",
    "Otherwise, you lose the amount B that you bet.\n",
    "(a) If p = 0.5 and B = 5, is this a good bet? Explain."
   ],
   "metadata": {
    "collapsed": false
   }
  },
  {
   "cell_type": "code",
   "execution_count": 27,
   "outputs": [
    {
     "name": "stdout",
     "output_type": "stream",
     "text": [
      "0.021501\n",
      "0.06648\n"
     ]
    }
   ],
   "source": [
    "def dailyMovement(p):\n",
    "    if random.random() <= p:\n",
    "        return True\n",
    "    else:\n",
    "        return False\n",
    "\n",
    "def experiment(days, p, s, endBet):\n",
    "    for i in range(days):\n",
    "        if dailyMovement(p):\n",
    "            s += 1\n",
    "        else:\n",
    "            s -= 1\n",
    "    if s > endBet:\n",
    "        return True, s - endBet\n",
    "    else:\n",
    "        return False, -1\n",
    "\n",
    "s = 100\n",
    "days = 30\n",
    "endBet = 110\n",
    "p = 0.5\n",
    "N = 1000000\n",
    "data = [experiment(days, p, s, endBet) for i in range(N)]\n",
    "\n",
    "wins = []\n",
    "winsPayout = []\n",
    "for i in data:\n",
    "    wins.append(i[0])\n",
    "    if i[0]:\n",
    "        winsPayout.append(i[1])\n",
    "\n",
    "print(sum(wins)/N)\n",
    "print(sum(winsPayout)/N)"
   ],
   "metadata": {
    "collapsed": false,
    "pycharm": {
     "name": "#%%\n"
    }
   }
  },
  {
   "cell_type": "markdown",
   "source": [
    "(b) If p = 0.6, what amount B would you be willing to pay to get in on the\n",
    "game? Explain."
   ],
   "metadata": {
    "collapsed": false
   }
  },
  {
   "cell_type": "code",
   "execution_count": 28,
   "outputs": [
    {
     "name": "stdout",
     "output_type": "stream",
     "text": [
      "0.176935\n",
      "0.6784\n"
     ]
    }
   ],
   "source": [
    "s = 100\n",
    "days = 30\n",
    "endBet = 110\n",
    "p = 0.6\n",
    "N = 1000000\n",
    "data = [experiment(days, p, s, endBet) for i in range(N)]\n",
    "\n",
    "wins = []\n",
    "winsPayout = []\n",
    "for i in data:\n",
    "    wins.append(i[0])\n",
    "    if i[0]:\n",
    "        winsPayout.append(i[1])\n",
    "\n",
    "print(sum(wins)/N)\n",
    "print(sum(winsPayout)/N)"
   ],
   "metadata": {
    "collapsed": false,
    "pycharm": {
     "name": "#%%\n"
    }
   }
  },
  {
   "cell_type": "markdown",
   "source": [
    "3. Estimating a gradient: Given a function of two variables f (x, y) that gives a\n",
    "real-valued output, the gradient is a vector that represents a sort of derivative.\n",
    "The important bit to know about the gradient is that it can be used to find the\n",
    "direction of steepest decrease in the function output. If we are trying to minimize\n",
    "f , this is great! So our goal is often to estimate the most negative gradient we\n",
    "can.\n",
    "To estimate the gradient of f at point (a, b) in the direction (u, v) (where u and\n",
    "v are small and not both zero), compute the ratio\n",
    "∇f (a, b) = f (a + u, b + v) − f (a, b)\n",
    "√u2 + v2\n",
    "To find the direction of steepest descent, compute this many times for a variety\n",
    "of u and v and keep track of the (u, v) pair that gives you the most negative ∇f .\n",
    "Here’s how to ”walk” to a minimum of f using the method of steepest descent.\n",
    "Begin with a start point, (x0, y0). Find the direction of steepest descent of f ,\n",
    "giving you some pair (u, v). Set (x1, y1) = (x0 + u, y0 + v). Repeat, generating\n",
    "new x and y values as you go. When they slow down you are nearing a minimum.\n",
    "Implement the method of steepest descent and test it for the function f (x, y) =\n",
    "x2 + 3y2, which has only one minimum value at (x, y) = (0, 0)."
   ],
   "metadata": {
    "collapsed": false
   }
  },
  {
   "cell_type": "code",
   "execution_count": null,
   "outputs": [],
   "source": [],
   "metadata": {
    "collapsed": false,
    "pycharm": {
     "name": "#%%\n"
    }
   }
  },
  {
   "cell_type": "markdown",
   "source": [
    "4. The method of steepest descent can be used in many creative ways. For example,\n",
    "let’s say you have two points in the plane, (1, 10) and (3, 0). We’d like to find\n",
    "the slope m and intercept b of the line y = mx + b through these two points, but\n",
    "using the method of steepest descent rather than any algebra.\n",
    "We will need a function f (m, b) that reflects error. Let’s try something like\n",
    "f (m, b) = (m + b − 10)2 + (3m + b − 0)2\n",
    "Beginning with m = 1 and b = 0, use the method of steepest descent to estimate\n",
    "m and b. Check your work with a bit of algebra."
   ],
   "metadata": {
    "collapsed": false
   }
  },
  {
   "cell_type": "code",
   "execution_count": null,
   "outputs": [],
   "source": [],
   "metadata": {
    "collapsed": false,
    "pycharm": {
     "name": "#%%\n"
    }
   }
  },
  {
   "cell_type": "markdown",
   "source": [
    "5. Okay, arguably, that previous problem was not strictly necessary if we know the\n",
    "magic algebra tricks. But what if the model we are working with is not a line?\n",
    "For example, let’s say you have two points in the plane, (1, 10) and (3, 2). Let’s\n",
    "also say that you want an exponential model y = Abx that passes through these\n",
    "points. Change f from the previous problem to reflect this new model and the\n",
    "new point, and then use the method of steepest descent to estimate A and b. (You\n",
    "should get A ≈ 22.361 and b ≈ 447.)"
   ],
   "metadata": {
    "collapsed": false
   }
  }
 ],
 "metadata": {
  "kernelspec": {
   "display_name": "Python 3",
   "language": "python",
   "name": "python3"
  },
  "language_info": {
   "codemirror_mode": {
    "name": "ipython",
    "version": 2
   },
   "file_extension": ".py",
   "mimetype": "text/x-python",
   "name": "python",
   "nbconvert_exporter": "python",
   "pygments_lexer": "ipython2",
   "version": "2.7.6"
  }
 },
 "nbformat": 4,
 "nbformat_minor": 0
}