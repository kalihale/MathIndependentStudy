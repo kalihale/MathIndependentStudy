{
 "cells": [
  {
   "cell_type": "markdown",
   "metadata": {
    "collapsed": true,
    "pycharm": {
     "name": "#%% md\n"
    }
   },
   "source": [
    "# Homework 2: Random Walks and Related Creatures\n",
    "\n",
    "First, imports:"
   ]
  },
  {
   "cell_type": "code",
   "execution_count": 32,
   "metadata": {
    "pycharm": {
     "name": "#%%\n"
    }
   },
   "outputs": [],
   "source": [
    "import random\n",
    "import math"
   ]
  },
  {
   "cell_type": "markdown",
   "metadata": {
    "pycharm": {
     "name": "#%% md\n"
    }
   },
   "source": [
    "1. A gambler with 100 is placing bets. On each bet, the gambler wins 1 with\n",
    "probability p or loses 1 with probability q = 1 − p. If the gambler reaches 200,\n",
    "they cash out, and if they reach 0, they go broke; in either of these cases they\n",
    "stop playing.\n",
    "(a) If p = 0.5, what is the probability that the gambler goes broke? When the\n",
    "gambler goes broke, on average how long does that take?"
   ]
  },
  {
   "cell_type": "code",
   "execution_count": 33,
   "metadata": {
    "pycharm": {
     "name": "#%%\n"
    }
   },
   "outputs": [
    {
     "name": "stdout",
     "output_type": "stream",
     "text": [
      "Probability of going broke with p = 0.5:  0.50154\n",
      "Average number of rounds before going broke:  4994.97058\n"
     ]
    }
   ],
   "source": [
    "def bet(p):\n",
    "    # Winning condition\n",
    "    if random.random() <= p:\n",
    "        return True\n",
    "    # Otherwise, you lose a dollar\n",
    "    else:\n",
    "        return False\n",
    "\n",
    "def experiment(M, p):\n",
    "    bets = 0\n",
    "    # While the gambler has less money than $200 and is not broke\n",
    "    while 0 < M < 200:\n",
    "        # If the gambler wins the bet, add a dollar\n",
    "        if bet(p):\n",
    "            M += 1\n",
    "        # If the gambler loses the bet, subtract a dollar\n",
    "        else:\n",
    "            M -= 1\n",
    "        # Count the number of rounds\n",
    "        bets += 1\n",
    "    # If gambler goes broke\n",
    "    if M == 0:\n",
    "        return bets, True\n",
    "    # If the gambler gets to $200\n",
    "    else:\n",
    "        return bets, False\n",
    "\n",
    "money = 100\n",
    "prob = 0.5\n",
    "N = 100000\n",
    "data = [experiment(money, prob) for i in range(N)]\n",
    "# For calculating the probability that the gambler goes broke\n",
    "broke = []\n",
    "# Number of rounds until the gambler went broke\n",
    "roundsToBroke = []\n",
    "for i in data:\n",
    "    # Append all times the gambler either went broke or got to $200 to this array\n",
    "    broke.append(i[1])\n",
    "    # If the gambler went broke, append the number of rounds it took to get to broke\n",
    "    if i[1]:\n",
    "        roundsToBroke.append(i[0])\n",
    "print(\"Probability of going broke with p = 0.5: \", sum(broke)/N)\n",
    "print(\"Average number of rounds before going broke: \", sum(roundsToBroke)/N)"
   ]
  },
  {
   "cell_type": "markdown",
   "metadata": {
    "pycharm": {
     "name": "#%% md\n"
    }
   },
   "source": [
    "(b) If p = 0.3, same question."
   ]
  },
  {
   "cell_type": "code",
   "execution_count": 34,
   "metadata": {
    "pycharm": {
     "name": "#%%\n"
    }
   },
   "outputs": [
    {
     "name": "stdout",
     "output_type": "stream",
     "text": [
      "Probability of going broke with p = 0.3:  1.0\n",
      "Average number of rounds before going broke:  250.09482\n"
     ]
    }
   ],
   "source": [
    "money = 100\n",
    "prob = 0.3\n",
    "N = 100000\n",
    "data = [experiment(money, prob) for i in range(N)]\n",
    "broke = []\n",
    "roundsToBroke = []\n",
    "for i in data:\n",
    "    broke.append(i[1])\n",
    "    if i[1]:\n",
    "        roundsToBroke.append(i[0])\n",
    "print(\"Probability of going broke with p = 0.3: \", sum(broke)/N)\n",
    "print(\"Average number of rounds before going broke: \", sum(roundsToBroke)/N)"
   ]
  },
  {
   "cell_type": "markdown",
   "metadata": {
    "pycharm": {
     "name": "#%% md\n"
    }
   },
   "source": [
    "2. Prices of certain financial instruments are modeled by a type of random walk called\n",
    "Brownian motion. These models date back to Bachelier’s now-famous paper in\n",
    "1900, Theorie de la speculation, which detailed the first use of stochastic models\n",
    "in modeling the price of stock options. In this problem, you’ll take a look at a\n",
    "simple stock option, but we’ll describe it as a bet.\n",
    "There is a changing number S (score? stock?) we are tracking, and you are\n",
    "betting on what this number will be in thirty days. The number increases by 1\n",
    "with probability p or decreases by 1 with probability q = 1 − p each day. You may\n",
    "place a bet right now on what this number will be at the end of 30 days; you have\n",
    "to pay B to place the bet. If the number S is greater than 110, you win S − 110.\n",
    "Otherwise, you lose the amount B that you bet.\n",
    "(a) If p = 0.5 and B = 5, is this a good bet? Explain."
   ]
  },
  {
   "cell_type": "code",
   "execution_count": 35,
   "metadata": {
    "pycharm": {
     "name": "#%%\n"
    }
   },
   "outputs": [
    {
     "name": "stdout",
     "output_type": "stream",
     "text": [
      "0.02139\n",
      "0.065932\n"
     ]
    }
   ],
   "source": [
    "# function to decide if s goes up or down\n",
    "def dailyMovement(p):\n",
    "    if random.random() <= p:\n",
    "        return True\n",
    "    else:\n",
    "        return False\n",
    "\n",
    "# function to run the experiment\n",
    "def experiment(days, p, s, endBet):\n",
    "    # repeat for the number of days\n",
    "    for i in range(days):\n",
    "        # add to or subtract from s\n",
    "        if dailyMovement(p):\n",
    "            s += 1\n",
    "        else:\n",
    "            s -= 1\n",
    "    # if s is greater than the end bet, you win\n",
    "    if s > endBet:\n",
    "        return True, s - endBet\n",
    "    # otherwise, you lose\n",
    "    else:\n",
    "        return False, -1\n",
    "\n",
    "s = 100\n",
    "days = 30\n",
    "endBet = 110\n",
    "p = 0.5\n",
    "N = 1000000\n",
    "data = [experiment(days, p, s, endBet) for i in range(N)]\n",
    "\n",
    "# wins keeps track of wins and losses\n",
    "wins = []\n",
    "# winsPayout keeps track of how much you win, but only if you win\n",
    "winsPayout = []\n",
    "for i in data:\n",
    "    wins.append(i[0])\n",
    "    if i[0]:\n",
    "        winsPayout.append(i[1])\n",
    "\n",
    "print(sum(wins)/N)\n",
    "print(sum(winsPayout)/N)"
   ]
  },
  {
   "cell_type": "markdown",
   "metadata": {
    "pycharm": {
     "name": "#%% md\n"
    }
   },
   "source": [
    "No, this is a really terrible bet. The chances of winning are just over *2%* and the average payout is just 6 cents *when you do win*."
   ]
  },
  {
   "cell_type": "markdown",
   "metadata": {
    "pycharm": {
     "name": "#%% md\n"
    }
   },
   "source": [
    "(b) If p = 0.6, what amount B would you be willing to pay to get in on the\n",
    "game? Explain."
   ]
  },
  {
   "cell_type": "code",
   "execution_count": 36,
   "metadata": {
    "pycharm": {
     "name": "#%%\n"
    }
   },
   "outputs": [
    {
     "name": "stdout",
     "output_type": "stream",
     "text": [
      "0.176443\n",
      "0.679382\n"
     ]
    }
   ],
   "source": [
    "s = 100\n",
    "days = 30\n",
    "endBet = 110\n",
    "p = 0.6\n",
    "N = 1000000\n",
    "data = [experiment(days, p, s, endBet) for i in range(N)]\n",
    "\n",
    "wins = []\n",
    "winsPayout = []\n",
    "for i in data:\n",
    "    wins.append(i[0])\n",
    "    if i[0]:\n",
    "        winsPayout.append(i[1])\n",
    "\n",
    "print(sum(wins)/N)\n",
    "print(sum(winsPayout)/N)"
   ]
  },
  {
   "cell_type": "markdown",
   "metadata": {
    "pycharm": {
     "name": "#%% md\n"
    }
   },
   "source": [
    "This is also a pretty bad bet. You lose over 4 of every 5 bets, and when you win, you win about 67 cents on average. Knowing you'd lose about 4 of every 5 bets, I would only pay a maximum of $0.67/5.5 \\approx .1218$ cents to get into a game."
   ]
  },
  {
   "cell_type": "markdown",
   "metadata": {
    "pycharm": {
     "name": "#%% md\n"
    }
   },
   "source": [
    " 3. Estimating a gradient: Given a function of two variables $f(x, y)$ that gives a\n",
    "real-valued output, the gradient is a vector that represents a sort of derivative.\n",
    "The important bit to know about the gradient is that it can be used to find the\n",
    "direction of steepest decrease in the function output. If we are trying to minimize\n",
    "$f$, this is great! So our goal is often to estimate the most negative gradient we\n",
    "can.\n",
    "To estimate the gradient of $f$ at point $(a, b)$ in the direction $(u, v)$ (where $u$ and\n",
    "$v$ are small and not both zero), compute the ratio\n",
    "\n",
    "$∇f (a, b) = \\frac{f(a + u, b + v) − f (a, b)}{\\sqrt{u^2 + v^2}}$\n",
    "\n",
    "To find the direction of steepest descent, compute this many times for a variety\n",
    "of $u$ and $v$ and keep track of the $(u, v)$ pair that gives you the most negative $∇f$ .\n",
    "Here’s how to ”walk” to a minimum of $f$ using the method of steepest descent.\n",
    "Begin with a start point, $(x_0, y_0)$. Find the direction of steepest descent of $f$,\n",
    "giving you some pair $(u, v)$. Set $(x_1, y_1) = (x_0 + u, y_0 + v)$. Repeat, generating\n",
    "new $x$ and $y$ values as you go. When they slow down you are nearing a minimum.\n",
    "Implement the method of steepest descent and test it for the function $f(x, y) =\n",
    "x^2 + 3y^2$, which has only one minimum value at $(x, y) = (0, 0)$."
   ]
  },
  {
   "cell_type": "code",
   "execution_count": 41,
   "metadata": {
    "pycharm": {
     "name": "#%%\n"
    }
   },
   "outputs": [
    {
     "data": {
      "text/plain": "(-1.229629389695602e-05, 2.1272452370726445e-05)"
     },
     "execution_count": 40,
     "metadata": {},
     "output_type": "execute_result"
    },
    {
     "data": {
      "text/plain": "(1.8611962299411625e-05, -1.9331451029785702e-05)"
     },
     "execution_count": 41,
     "metadata": {},
     "output_type": "execute_result"
    }
   ],
   "source": [
    "# this calculates descent\n",
    "def changeInF(x, y, u, v):\n",
    "    return ((math.pow(x + u, 2) + 3 * math.pow(y + v, 2)) - (math.pow(x, 2) + 3 * math.pow(y, 2))) / math.sqrt(math.pow(u, 2) + math.pow(v, 2))\n",
    "\n",
    "# This finds the point with the steepest descent out of a random 20 points\n",
    "def findLowest(xy):\n",
    "    x = xy[0]\n",
    "    y = xy[1]\n",
    "    tuples = []\n",
    "    for i in range(20):\n",
    "        u = .1 * (-1 + 2 * random.random())\n",
    "        v = .1 * (-1 + 2 * random.random())\n",
    "        tuples.append((u, v))\n",
    "    current = (x, y)\n",
    "    mostNegative = 0\n",
    "    for i in tuples:\n",
    "        if changeInF(x, y, i[0], i[1]) < mostNegative:\n",
    "            current = (x + i[0], y + i[1])\n",
    "            mostNegative = changeInF(x, y, i[0], i[1])\n",
    "    return current\n",
    "\n",
    "# this find the minimum given a random starting x and y\n",
    "def findMinimum(N):\n",
    "    startX = random.random() * 10 - 5\n",
    "    startY = random.random() * 10 - 5\n",
    "    xy = (startX, startY)\n",
    "    for i in range(N):\n",
    "        xy = findLowest(xy)\n",
    "    return xy\n",
    "\n",
    "findMinimum(1000000)"
   ]
  },
  {
   "cell_type": "markdown",
   "metadata": {
    "pycharm": {
     "name": "#%% md\n"
    }
   },
   "source": [
    " 5. The method of steepest descent can be used in many creative ways. For example,\n",
    "let’s say you have two points in the plane, $(1, 10)$ and $(3, 0)$. We’d like to find\n",
    "the slope $m$ and intercept $b$ of the line $y = mx + b$ through these two points, but\n",
    "using the method of steepest descent rather than any algebra.\n",
    "We will need a function $f(m, b)$ that reflects error. Let’s try something like\n",
    "\n",
    "$f(m, b) = (m + b − 10)^2 + (3m + b − 0)^2$\n",
    "\n",
    "Beginning with $m = 1$ and $b = 0$, use the method of steepest descent to estimate\n",
    "$m$ and $b$. Check your work with a bit of algebra."
   ]
  },
  {
   "cell_type": "code",
   "execution_count": 38,
   "metadata": {
    "pycharm": {
     "name": "#%%\n"
    }
   },
   "outputs": [
    {
     "data": {
      "text/plain": [
       "(-5.000009646849922, 15.00001973054796)"
      ]
     },
     "execution_count": 38,
     "metadata": {},
     "output_type": "execute_result"
    }
   ],
   "source": [
    "# This finds the error from the actual points given an m and b\n",
    "def findError(m, b):\n",
    "    return math.pow((m + b - 10), 2) + math.pow((3*m + b - 0), 2)\n",
    "\n",
    "# This finds the m and b with the smallest error out of a series of 20 randomly generated m's and b's\n",
    "def findSmallest(mb):\n",
    "    m = mb[0]\n",
    "    b = mb[1]\n",
    "    tuples = []\n",
    "    # randomly generate a series of u's and v's to find the next point to hop to\n",
    "    for i in range(20):\n",
    "        u = .1 * (-1 + 2 * random.random())\n",
    "        v = .1 * (-1 + 2 * random.random())\n",
    "        tuples.append((u, v))\n",
    "    current = (m, b)\n",
    "    err = abs(findError(m, b))\n",
    "    for i in tuples:\n",
    "        if abs(findError(m + i[0], b + i[1])) < err:\n",
    "            current = (m + i[0], b + i[1])\n",
    "            err = abs(findError(m + i[0], b + i[1]))\n",
    "    return current\n",
    "\n",
    "# This runs findSmallest N times to find the m and b with the smallest error\n",
    "def findMinimum(N):\n",
    "    mb = (1, 0)\n",
    "    for i in range(N):\n",
    "        mb = findSmallest(mb)\n",
    "    return mb\n",
    "\n",
    "findMinimum(10000000)"
   ]
  },
  {
   "cell_type": "markdown",
   "metadata": {
    "pycharm": {
     "name": "#%% md\n"
    }
   },
   "source": [
    "$m = (0 - 10) / (3 - 1) = -5$\n",
    "\n",
    "$10 = -5 * 1 + b$ -> $b = 15$"
   ]
  },
  {
   "cell_type": "markdown",
   "metadata": {
    "pycharm": {
     "name": "#%% md\n"
    }
   },
   "source": [
    "5. Okay, arguably, that previous problem was not strictly necessary if we know the\n",
    "magic algebra tricks. But what if the model we are working with is not a line?\n",
    "For example, let’s say you have two points in the plane, (1, 10) and (3, 2). Let’s\n",
    "also say that you want an exponential model $y = Ab^x$ that passes through these\n",
    "points. Change f from the previous problem to reflect this new model and the\n",
    "new point, and then use the method of steepest descent to estimate A and b. (You\n",
    "should get A ≈ 22.361 and b ≈ 447.)"
   ]
  },
  {
   "cell_type": "code",
   "execution_count": 39,
   "metadata": {
    "pycharm": {
     "name": "#%%\n"
    }
   },
   "outputs": [
    {
     "data": {
      "text/plain": [
       "(22.36070173834083, 0.44721369316354814)"
      ]
     },
     "execution_count": 39,
     "metadata": {},
     "output_type": "execute_result"
    }
   ],
   "source": [
    "# This finds the error from the actual points given an A and b\n",
    "def findError(A, b):\n",
    "    return math.pow(A * math.pow(b, 1) - 10, 2) + math.pow(A * math.pow(b, 3) - 2, 2)\n",
    "\n",
    "# This finds the A and b with the smallest error out of a series of 20 randomly generated A's and b's\n",
    "def findSmallest(ab):\n",
    "    A = ab[0]\n",
    "    b = ab[1]\n",
    "    tuples = []\n",
    "    # randomly generate a series of u's and v's to find the next point to hop to\n",
    "    for i in range(20):\n",
    "        u = .1 * (-1 + 2 * random.random())\n",
    "        v = .1 * (-1 + 2 * random.random())\n",
    "        tuples.append((u, v))\n",
    "    current = (A, b)\n",
    "    err = abs(findError(A, b))\n",
    "    for i in tuples:\n",
    "        if abs(findError(A + i[0], b + i[1])) < err:\n",
    "            current = (A + i[0], b + i[1])\n",
    "            err = abs(findError(A + i[0], b + i[1]))\n",
    "    return current\n",
    "\n",
    "# This runs findSmallest N times to find the A and b with the smallest error\n",
    "def findMinimum(N):\n",
    "    Ab = (1, 0)\n",
    "    for i in range(N):\n",
    "        Ab = findSmallest(Ab)\n",
    "    return Ab\n",
    "\n",
    "findMinimum(10000000)"
   ]
  }
 ],
 "metadata": {
  "kernelspec": {
   "display_name": "Python 3 (ipykernel)",
   "language": "python",
   "name": "python3"
  },
  "language_info": {
   "codemirror_mode": {
    "name": "ipython",
    "version": 3
   },
   "file_extension": ".py",
   "mimetype": "text/x-python",
   "name": "python",
   "nbconvert_exporter": "python",
   "pygments_lexer": "ipython3",
   "version": "3.9.7"
  }
 },
 "nbformat": 4,
 "nbformat_minor": 1
}