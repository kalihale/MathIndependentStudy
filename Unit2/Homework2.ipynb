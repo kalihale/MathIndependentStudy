{
 "cells": [
  {
   "cell_type": "markdown",
   "metadata": {
    "collapsed": true,
    "pycharm": {
     "name": "#%% md\n"
    }
   },
   "source": [
    "# Homework 2: Random Walks and Related Creatures\n",
    "\n",
    "First, imports:"
   ]
  },
  {
   "cell_type": "code",
   "source": [
    "import random\n",
    "import matplotlib.pyplot as plt\n",
    "import numpy as np\n",
    "import math"
   ],
   "metadata": {
    "collapsed": false,
    "pycharm": {
     "name": "#%%\n"
    }
   },
   "execution_count": 22,
   "outputs": []
  },
  {
   "cell_type": "markdown",
   "source": [
    "1. A gambler with 100 is placing bets. On each bet, the gambler wins 1 with\n",
    "probability p or loses 1 with probability q = 1 − p. If the gambler reaches 200,\n",
    "they cash out, and if they reach 0, they go broke; in either of these cases they\n",
    "stop playing.\n",
    "(a) If p = 0.5, what is the probability that the gambler goes broke? When the\n",
    "gambler goes broke, on average how long does that take?"
   ],
   "metadata": {
    "collapsed": false
   }
  },
  {
   "cell_type": "code",
   "execution_count": 23,
   "outputs": [
    {
     "name": "stdout",
     "output_type": "stream",
     "text": [
      "Probability of going broke with p = 0.5:  0.50304\n",
      "Average number of rounds before going broke:  5038.33372\n"
     ]
    }
   ],
   "source": [
    "def bet(p):\n",
    "    if random.random() <= p:\n",
    "        return True\n",
    "    else:\n",
    "        return False\n",
    "\n",
    "def experiment(M, p):\n",
    "    bets = 0\n",
    "    while 0 < M < 200:\n",
    "        if bet(p):\n",
    "            M += 1\n",
    "        else:\n",
    "            M -= 1\n",
    "        bets += 1\n",
    "    if M == 0:\n",
    "        return bets, True\n",
    "    else:\n",
    "        return bets, False\n",
    "\n",
    "money = 100\n",
    "prob = 0.5\n",
    "N = 100000\n",
    "data = [experiment(money, prob) for i in range(N)]\n",
    "broke = []\n",
    "roundsToBroke = []\n",
    "for i in data:\n",
    "    broke.append(i[1])\n",
    "    if i[1]:\n",
    "        roundsToBroke.append(i[0])\n",
    "print(\"Probability of going broke with p = 0.5: \", sum(broke)/N)\n",
    "print(\"Average number of rounds before going broke: \", sum(roundsToBroke)/N)"
   ],
   "metadata": {
    "collapsed": false,
    "pycharm": {
     "name": "#%%\n"
    }
   }
  },
  {
   "cell_type": "markdown",
   "source": [
    "(b) If p = 0.3, same question."
   ],
   "metadata": {
    "collapsed": false
   }
  },
  {
   "cell_type": "code",
   "execution_count": 24,
   "outputs": [
    {
     "name": "stdout",
     "output_type": "stream",
     "text": [
      "Probability of going broke with p = 0.3:  1.0\n",
      "Average number of rounds before going broke:  249.99502\n"
     ]
    }
   ],
   "source": [
    "money = 100\n",
    "prob = 0.3\n",
    "N = 100000\n",
    "data = [experiment(money, prob) for i in range(N)]\n",
    "broke = []\n",
    "roundsToBroke = []\n",
    "for i in data:\n",
    "    broke.append(i[1])\n",
    "    if i[1]:\n",
    "        roundsToBroke.append(i[0])\n",
    "print(\"Probability of going broke with p = 0.3: \", sum(broke)/N)\n",
    "print(\"Average number of rounds before going broke: \", sum(roundsToBroke)/N)"
   ],
   "metadata": {
    "collapsed": false,
    "pycharm": {
     "name": "#%%\n"
    }
   }
  },
  {
   "cell_type": "markdown",
   "source": [
    "2. Prices of certain financial instruments are modeled by a type of random walk called\n",
    "Brownian motion. These models date back to Bachelier’s now-famous paper in\n",
    "1900, Theorie de la speculation, which detailed the first use of stochastic models\n",
    "in modeling the price of stock options. In this problem, you’ll take a look at a\n",
    "simple stock option, but we’ll describe it as a bet.\n",
    "There is a changing number S (score? stock?) we are tracking, and you are\n",
    "betting on what this number will be in thirty days. The number increases by 1\n",
    "with probability p or decreases by 1 with probability q = 1 − p each day. You may\n",
    "place a bet right now on what this number will be at the end of 30 days; you have\n",
    "to pay B to place the bet. If the number S is greater than 110, you win S − 110.\n",
    "Otherwise, you lose the amount B that you bet.\n",
    "(a) If p = 0.5 and B = 5, is this a good bet? Explain."
   ],
   "metadata": {
    "collapsed": false
   }
  },
  {
   "cell_type": "code",
   "execution_count": 24,
   "outputs": [],
   "source": [],
   "metadata": {
    "collapsed": false,
    "pycharm": {
     "name": "#%%\n"
    }
   }
  },
  {
   "cell_type": "markdown",
   "source": [
    "(b) If p = 0.6, what amount B would you be willing to pay to get in on the\n",
    "game? Explain."
   ],
   "metadata": {
    "collapsed": false
   }
  },
  {
   "cell_type": "code",
   "execution_count": 24,
   "outputs": [],
   "source": [],
   "metadata": {
    "collapsed": false,
    "pycharm": {
     "name": "#%%\n"
    }
   }
  },
  {
   "cell_type": "code",
   "execution_count": 24,
   "outputs": [],
   "source": [],
   "metadata": {
    "collapsed": false,
    "pycharm": {
     "name": "#%%\n"
    }
   }
  }
 ],
 "metadata": {
  "kernelspec": {
   "display_name": "Python 3",
   "language": "python",
   "name": "python3"
  },
  "language_info": {
   "codemirror_mode": {
    "name": "ipython",
    "version": 2
   },
   "file_extension": ".py",
   "mimetype": "text/x-python",
   "name": "python",
   "nbconvert_exporter": "python",
   "pygments_lexer": "ipython2",
   "version": "2.7.6"
  }
 },
 "nbformat": 4,
 "nbformat_minor": 0
}