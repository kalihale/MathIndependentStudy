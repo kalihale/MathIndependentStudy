{
 "cells": [
  {
   "cell_type": "markdown",
   "source": [
    "# Rodents of Unusual Size"
   ],
   "metadata": {
    "collapsed": false
   }
  },
  {
   "cell_type": "code",
   "execution_count": null,
   "metadata": {
    "collapsed": true
   },
   "outputs": [],
   "source": [
    "\"\"\"Use genetic algorithm to simulate breeding race of super rats.\"\"\"\n",
    "\n",
    "import time\n",
    "import random\n",
    "import statistics\n",
    "\n",
    "# CONSTANTS (weights in grams)\n",
    "GOAL = 50000\n",
    "NUM_RATS = 20  # number of adult breeding rats in each generation\n",
    "INITIAL_MIN_WT = 200\n",
    "INITIAL_MAX_WT = 600\n",
    "INITIAL_MODE_WT = 300\n",
    "MUTATE_ODDS = 0.01\n",
    "MUTATE_MIN = 0.5\n",
    "MUTATE_MAX = 1.2\n",
    "LITTER_SIZE = 8\n",
    "LITTERS_PER_YEAR = 10\n",
    "GENERATION_LIMIT = 500\n",
    "\n",
    "# ensure even-number of rats for breeding pairs:\n",
    "if NUM_RATS % 2 != 0:\n",
    "    NUM_RATS += 1\n",
    "\n",
    "def populate(num_rats, min_wt, max_wt, mode_wt):\n",
    "    \"\"\"Initialize a population with a triangular distribution of weights.\"\"\"\n",
    "    return [int(random.triangular(min_wt, max_wt, mode_wt))\n",
    "            for i in range(num_rats)]\n",
    "\n",
    "def fitness(population, goal):\n",
    "    \"\"\"Measure population fitness based on an attribute mean vs target.\"\"\"\n",
    "    ave = statistics.mean(population)\n",
    "    return ave / goal\n",
    "\n",
    "def select(population, to_retain):\n",
    "    \"\"\"Cull a population to contain only a specified number of members.\"\"\"\n",
    "    # Create a dictionary with noisy weights as keys and actual weights as values\n",
    "    # Compare with smaller or larger average errors - what's the number of generations to the goal when this is changed?\n",
    "    sorted_population = sorted(population)\n",
    "    to_retain_by_sex = to_retain//2\n",
    "    members_per_sex = len(sorted_population)//2\n",
    "    females = sorted_population[:members_per_sex]\n",
    "    males = sorted_population[members_per_sex:]\n",
    "    selected_females = females[-to_retain_by_sex:]\n",
    "    selected_males = males[-to_retain_by_sex:]\n",
    "    return selected_males, selected_females\n",
    "\n",
    "def breed(males, females, litter_size):\n",
    "    \"\"\"Crossover genes among members of a population.\"\"\"\n",
    "    random.shuffle(males)\n",
    "    random.shuffle(females)\n",
    "    children = []\n",
    "    for male, female in zip(males, females):\n",
    "        for child in range(litter_size):\n",
    "            child = random.randint(female, male)\n",
    "            children.append(child)\n",
    "    return children\n",
    "\n",
    "def mutate(children, mutate_odds, mutate_min, mutate_max):\n",
    "    \"\"\"Randomly alter rat weights using input odds & fractional changes.\"\"\"\n",
    "    for index, rat in enumerate(children):\n",
    "        if mutate_odds >= random.random():\n",
    "            children[index] = round(rat * random.uniform(mutate_min,\n",
    "                                                         mutate_max))\n",
    "    return children\n",
    "\n",
    "def main():\n",
    "    \"\"\"Initialize population, select, breed, and mutate, display results.\"\"\"\n",
    "    generations = 0\n",
    "\n",
    "    parents = populate(NUM_RATS, INITIAL_MIN_WT, INITIAL_MAX_WT,\n",
    "                       INITIAL_MODE_WT)\n",
    "    print(\"initial population weights = {}\".format(parents))\n",
    "    popl_fitness = fitness(parents, GOAL)\n",
    "    print(\"initial population fitness = {}\".format(popl_fitness))\n",
    "    print(\"number to retain = {}\".format(NUM_RATS))\n",
    "\n",
    "    ave_wt = []\n",
    "\n",
    "    while popl_fitness < 1 and generations < GENERATION_LIMIT:\n",
    "        selected_males, selected_females = select(parents, NUM_RATS)\n",
    "        children = breed(selected_males, selected_females, LITTER_SIZE)\n",
    "        children = mutate(children, MUTATE_ODDS, MUTATE_MIN, MUTATE_MAX)\n",
    "        parents = selected_males + selected_females + children\n",
    "        popl_fitness = fitness(parents, GOAL)\n",
    "        print(\"Generation {} fitness = {:.4f}\".format(generations,\n",
    "                                                      popl_fitness))\n",
    "        ave_wt.append(int(statistics.mean(parents)))\n",
    "        generations += 1\n",
    "\n",
    "    print(\"average weight per generation = {}\".format(ave_wt))\n",
    "    print(\"\\nnumber of generations = {}\".format(generations))\n",
    "    print(\"number of years = {}\".format(int(generations / LITTERS_PER_YEAR)))\n",
    "\n",
    "if __name__ == '__main__':\n",
    "    start_time = time.time()\n",
    "    main()\n",
    "    end_time = time.time()\n",
    "    duration = end_time - start_time\n",
    "    print(\"\\nRuntime for this program was {} seconds.\".format(duration))"
   ]
  },
  {
   "cell_type": "code",
   "execution_count": 1,
   "outputs": [
    {
     "name": "stdout",
     "output_type": "stream",
     "text": [
      "[4, 2, 1]\n"
     ]
    }
   ],
   "source": [
    "noisy = {3:2, 4:1, 2:4}\n",
    "sorted_population =[noisy[z] for z in sorted(noisy)]\n",
    "print(sorted_population)"
   ],
   "metadata": {
    "collapsed": false,
    "pycharm": {
     "name": "#%%\n"
    }
   }
  }
 ],
 "metadata": {
  "kernelspec": {
   "display_name": "Python 3",
   "language": "python",
   "name": "python3"
  },
  "language_info": {
   "codemirror_mode": {
    "name": "ipython",
    "version": 2
   },
   "file_extension": ".py",
   "mimetype": "text/x-python",
   "name": "python",
   "nbconvert_exporter": "python",
   "pygments_lexer": "ipython2",
   "version": "2.7.6"
  }
 },
 "nbformat": 4,
 "nbformat_minor": 0
}