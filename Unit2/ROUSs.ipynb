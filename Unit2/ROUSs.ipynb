{
 "cells": [
  {
   "cell_type": "markdown",
   "metadata": {},
   "source": [
    "# Giant Rats (AKA Rodents of Unusual Size)"
   ]
  },
  {
   "cell_type": "markdown",
   "source": [
    "The original code simulates breeding giant rats (or \"Rodents of Unusual Size\"), attempting to simulate the number of generations it would take to breed these rodents to the target size.\n",
    "\n",
    "With this project, we have introduced an \"error\" variable to simulate errors in weighing the rodents. Perhaps the rodents squirmed while they were being weighed, or maybe the scale isn't quite correct. Whatever the reason, we are simulating weighing these rats with an error. We are using a random sample from a normal distribution with a width of `error`."
   ],
   "metadata": {
    "collapsed": false
   }
  },
  {
   "cell_type": "code",
   "execution_count": 1,
   "metadata": {
    "pycharm": {
     "name": "#%%\n"
    }
   },
   "outputs": [],
   "source": [
    "import numpy as np\n",
    "import matplotlib.pyplot as plot"
   ]
  },
  {
   "cell_type": "code",
   "execution_count": 1,
   "metadata": {
    "collapsed": true
   },
   "outputs": [
    {
     "name": "stdout",
     "output_type": "stream",
     "text": [
      "initial population weights = [341, 422, 465, 273, 323, 338, 336, 387, 303, 355, 326, 271, 492, 297, 397, 409, 343, 346, 292, 435]\n",
      "initial population fitness = 0.007151\n",
      "number to retain = 20\n",
      "[273, 271, 292, 303, 297, 336, 323, 326, 338, 341]\n",
      "[343, 355, 346, 397, 387, 409, 422, 435, 465, 492]\n",
      "Generation 0 fitness = 0.0071\n",
      "[343, 332, 336, 346, 337, 336, 345, 337, 341, 355]\n",
      "[423, 432, 424, 435, 442, 436, 433, 465, 489, 492]\n",
      "Generation 1 fitness = 0.0079\n",
      "[382, 381, 379, 384, 372, 377, 390, 389, 392, 373]\n",
      "[436, 442, 456, 465, 465, 473, 474, 481, 489, 492]\n",
      "Generation 2 fitness = 0.0085\n",
      "[398, 407, 418, 421, 427, 417, 414, 419, 419, 418]\n",
      "[484, 473, 481, 474, 479, 486, 489, 474, 492, 490]\n",
      "Generation 3 fitness = 0.0090\n",
      "[441, 438, 437, 447, 440, 446, 446, 448, 457, 453]\n",
      "[481, 482, 492, 482, 489, 486, 481, 488, 486, 490]\n",
      "Generation 4 fitness = 0.0093\n",
      "[460, 448, 462, 470, 455, 467, 458, 468, 460, 468]\n",
      "[490, 486, 480, 487, 490, 485, 488, 482, 478, 490]\n",
      "Generation 5 fitness = 0.0094\n",
      "[468, 467, 475, 477, 485, 473, 467, 474, 473, 482]\n",
      "[476, 488, 476, 490, 490, 486, 486, 483, 485, 483]\n"
     ]
    },
    {
     "ename": "ValueError",
     "evalue": "empty range for randrange() (477, 477, 0)",
     "output_type": "error",
     "traceback": [
      "\u001B[0;31m---------------------------------------------------------------------------\u001B[0m",
      "\u001B[0;31mValueError\u001B[0m                                Traceback (most recent call last)",
      "\u001B[0;32m/tmp/ipykernel_9144/3876149824.py\u001B[0m in \u001B[0;36m<module>\u001B[0;34m\u001B[0m\n\u001B[1;32m    104\u001B[0m \u001B[0;32mif\u001B[0m \u001B[0m__name__\u001B[0m \u001B[0;34m==\u001B[0m \u001B[0;34m'__main__'\u001B[0m\u001B[0;34m:\u001B[0m\u001B[0;34m\u001B[0m\u001B[0;34m\u001B[0m\u001B[0m\n\u001B[1;32m    105\u001B[0m     \u001B[0mstart_time\u001B[0m \u001B[0;34m=\u001B[0m \u001B[0mtime\u001B[0m\u001B[0;34m.\u001B[0m\u001B[0mtime\u001B[0m\u001B[0;34m(\u001B[0m\u001B[0;34m)\u001B[0m\u001B[0;34m\u001B[0m\u001B[0;34m\u001B[0m\u001B[0m\n\u001B[0;32m--> 106\u001B[0;31m     \u001B[0mmain\u001B[0m\u001B[0;34m(\u001B[0m\u001B[0;34m)\u001B[0m\u001B[0;34m\u001B[0m\u001B[0;34m\u001B[0m\u001B[0m\n\u001B[0m\u001B[1;32m    107\u001B[0m     \u001B[0mend_time\u001B[0m \u001B[0;34m=\u001B[0m \u001B[0mtime\u001B[0m\u001B[0;34m.\u001B[0m\u001B[0mtime\u001B[0m\u001B[0;34m(\u001B[0m\u001B[0;34m)\u001B[0m\u001B[0;34m\u001B[0m\u001B[0;34m\u001B[0m\u001B[0m\n\u001B[1;32m    108\u001B[0m     \u001B[0mduration\u001B[0m \u001B[0;34m=\u001B[0m \u001B[0mend_time\u001B[0m \u001B[0;34m-\u001B[0m \u001B[0mstart_time\u001B[0m\u001B[0;34m\u001B[0m\u001B[0;34m\u001B[0m\u001B[0m\n",
      "\u001B[0;32m/tmp/ipykernel_9144/3876149824.py\u001B[0m in \u001B[0;36mmain\u001B[0;34m()\u001B[0m\n\u001B[1;32m     89\u001B[0m     \u001B[0;32mwhile\u001B[0m \u001B[0mpopl_fitness\u001B[0m \u001B[0;34m<\u001B[0m \u001B[0;36m1\u001B[0m \u001B[0;32mand\u001B[0m \u001B[0mgenerations\u001B[0m \u001B[0;34m<\u001B[0m \u001B[0mGENERATION_LIMIT\u001B[0m\u001B[0;34m:\u001B[0m\u001B[0;34m\u001B[0m\u001B[0;34m\u001B[0m\u001B[0m\n\u001B[1;32m     90\u001B[0m         \u001B[0mselected_males\u001B[0m\u001B[0;34m,\u001B[0m \u001B[0mselected_females\u001B[0m \u001B[0;34m=\u001B[0m \u001B[0mselect\u001B[0m\u001B[0;34m(\u001B[0m\u001B[0mparents\u001B[0m\u001B[0;34m,\u001B[0m \u001B[0mNUM_RATS\u001B[0m\u001B[0;34m,\u001B[0m \u001B[0;36m7\u001B[0m\u001B[0;34m)\u001B[0m\u001B[0;34m\u001B[0m\u001B[0;34m\u001B[0m\u001B[0m\n\u001B[0;32m---> 91\u001B[0;31m         \u001B[0mchildren\u001B[0m \u001B[0;34m=\u001B[0m \u001B[0mbreed\u001B[0m\u001B[0;34m(\u001B[0m\u001B[0mselected_males\u001B[0m\u001B[0;34m,\u001B[0m \u001B[0mselected_females\u001B[0m\u001B[0;34m,\u001B[0m \u001B[0mLITTER_SIZE\u001B[0m\u001B[0;34m)\u001B[0m\u001B[0;34m\u001B[0m\u001B[0;34m\u001B[0m\u001B[0m\n\u001B[0m\u001B[1;32m     92\u001B[0m         \u001B[0mchildren\u001B[0m \u001B[0;34m=\u001B[0m \u001B[0mmutate\u001B[0m\u001B[0;34m(\u001B[0m\u001B[0mchildren\u001B[0m\u001B[0;34m,\u001B[0m \u001B[0mMUTATE_ODDS\u001B[0m\u001B[0;34m,\u001B[0m \u001B[0mMUTATE_MIN\u001B[0m\u001B[0;34m,\u001B[0m \u001B[0mMUTATE_MAX\u001B[0m\u001B[0;34m)\u001B[0m\u001B[0;34m\u001B[0m\u001B[0;34m\u001B[0m\u001B[0m\n\u001B[1;32m     93\u001B[0m         \u001B[0mparents\u001B[0m \u001B[0;34m=\u001B[0m \u001B[0mselected_males\u001B[0m \u001B[0;34m+\u001B[0m \u001B[0mselected_females\u001B[0m \u001B[0;34m+\u001B[0m \u001B[0mchildren\u001B[0m\u001B[0;34m\u001B[0m\u001B[0;34m\u001B[0m\u001B[0m\n",
      "\u001B[0;32m/tmp/ipykernel_9144/3876149824.py\u001B[0m in \u001B[0;36mbreed\u001B[0;34m(males, females, litter_size)\u001B[0m\n\u001B[1;32m     62\u001B[0m     \u001B[0;32mfor\u001B[0m \u001B[0mmale\u001B[0m\u001B[0;34m,\u001B[0m \u001B[0mfemale\u001B[0m \u001B[0;32min\u001B[0m \u001B[0mzip\u001B[0m\u001B[0;34m(\u001B[0m\u001B[0mmales\u001B[0m\u001B[0;34m,\u001B[0m \u001B[0mfemales\u001B[0m\u001B[0;34m)\u001B[0m\u001B[0;34m:\u001B[0m\u001B[0;34m\u001B[0m\u001B[0;34m\u001B[0m\u001B[0m\n\u001B[1;32m     63\u001B[0m         \u001B[0;32mfor\u001B[0m \u001B[0mchild\u001B[0m \u001B[0;32min\u001B[0m \u001B[0mrange\u001B[0m\u001B[0;34m(\u001B[0m\u001B[0mlitter_size\u001B[0m\u001B[0;34m)\u001B[0m\u001B[0;34m:\u001B[0m\u001B[0;34m\u001B[0m\u001B[0;34m\u001B[0m\u001B[0m\n\u001B[0;32m---> 64\u001B[0;31m             \u001B[0mchild\u001B[0m \u001B[0;34m=\u001B[0m \u001B[0mrandom\u001B[0m\u001B[0;34m.\u001B[0m\u001B[0mrandint\u001B[0m\u001B[0;34m(\u001B[0m\u001B[0mfemale\u001B[0m\u001B[0;34m,\u001B[0m \u001B[0mmale\u001B[0m\u001B[0;34m)\u001B[0m\u001B[0;34m\u001B[0m\u001B[0;34m\u001B[0m\u001B[0m\n\u001B[0m\u001B[1;32m     65\u001B[0m             \u001B[0mchildren\u001B[0m\u001B[0;34m.\u001B[0m\u001B[0mappend\u001B[0m\u001B[0;34m(\u001B[0m\u001B[0mchild\u001B[0m\u001B[0;34m)\u001B[0m\u001B[0;34m\u001B[0m\u001B[0;34m\u001B[0m\u001B[0m\n\u001B[1;32m     66\u001B[0m     \u001B[0;32mreturn\u001B[0m \u001B[0mchildren\u001B[0m\u001B[0;34m\u001B[0m\u001B[0;34m\u001B[0m\u001B[0m\n",
      "\u001B[0;32m~/anaconda3/lib/python3.9/random.py\u001B[0m in \u001B[0;36mrandint\u001B[0;34m(self, a, b)\u001B[0m\n\u001B[1;32m    336\u001B[0m         \"\"\"\n\u001B[1;32m    337\u001B[0m \u001B[0;34m\u001B[0m\u001B[0m\n\u001B[0;32m--> 338\u001B[0;31m         \u001B[0;32mreturn\u001B[0m \u001B[0mself\u001B[0m\u001B[0;34m.\u001B[0m\u001B[0mrandrange\u001B[0m\u001B[0;34m(\u001B[0m\u001B[0ma\u001B[0m\u001B[0;34m,\u001B[0m \u001B[0mb\u001B[0m\u001B[0;34m+\u001B[0m\u001B[0;36m1\u001B[0m\u001B[0;34m)\u001B[0m\u001B[0;34m\u001B[0m\u001B[0;34m\u001B[0m\u001B[0m\n\u001B[0m\u001B[1;32m    339\u001B[0m \u001B[0;34m\u001B[0m\u001B[0m\n\u001B[1;32m    340\u001B[0m \u001B[0;34m\u001B[0m\u001B[0m\n",
      "\u001B[0;32m~/anaconda3/lib/python3.9/random.py\u001B[0m in \u001B[0;36mrandrange\u001B[0;34m(self, start, stop, step)\u001B[0m\n\u001B[1;32m    314\u001B[0m             \u001B[0;32mreturn\u001B[0m \u001B[0mistart\u001B[0m \u001B[0;34m+\u001B[0m \u001B[0mself\u001B[0m\u001B[0;34m.\u001B[0m\u001B[0m_randbelow\u001B[0m\u001B[0;34m(\u001B[0m\u001B[0mwidth\u001B[0m\u001B[0;34m)\u001B[0m\u001B[0;34m\u001B[0m\u001B[0;34m\u001B[0m\u001B[0m\n\u001B[1;32m    315\u001B[0m         \u001B[0;32mif\u001B[0m \u001B[0mstep\u001B[0m \u001B[0;34m==\u001B[0m \u001B[0;36m1\u001B[0m\u001B[0;34m:\u001B[0m\u001B[0;34m\u001B[0m\u001B[0;34m\u001B[0m\u001B[0m\n\u001B[0;32m--> 316\u001B[0;31m             \u001B[0;32mraise\u001B[0m \u001B[0mValueError\u001B[0m\u001B[0;34m(\u001B[0m\u001B[0;34m\"empty range for randrange() (%d, %d, %d)\"\u001B[0m \u001B[0;34m%\u001B[0m \u001B[0;34m(\u001B[0m\u001B[0mistart\u001B[0m\u001B[0;34m,\u001B[0m \u001B[0mistop\u001B[0m\u001B[0;34m,\u001B[0m \u001B[0mwidth\u001B[0m\u001B[0;34m)\u001B[0m\u001B[0;34m)\u001B[0m\u001B[0;34m\u001B[0m\u001B[0;34m\u001B[0m\u001B[0m\n\u001B[0m\u001B[1;32m    317\u001B[0m \u001B[0;34m\u001B[0m\u001B[0m\n\u001B[1;32m    318\u001B[0m         \u001B[0;31m# Non-unit step argument supplied.\u001B[0m\u001B[0;34m\u001B[0m\u001B[0;34m\u001B[0m\u001B[0m\n",
      "\u001B[0;31mValueError\u001B[0m: empty range for randrange() (477, 477, 0)"
     ]
    }
   ],
   "source": [
    "\"\"\"Use genetic algorithm to simulate breeding race of super rats.\"\"\"\n",
    "\n",
    "import time\n",
    "import random\n",
    "import statistics\n",
    "\n",
    "# CONSTANTS (weights in grams)\n",
    "GOAL = 50000\n",
    "NUM_RATS = 20  # number of adult breeding rats in each generation\n",
    "INITIAL_MIN_WT = 200\n",
    "INITIAL_MAX_WT = 600\n",
    "INITIAL_MODE_WT = 300\n",
    "MUTATE_ODDS = 0.01\n",
    "MUTATE_MIN = 0.5\n",
    "MUTATE_MAX = 1.2\n",
    "LITTER_SIZE = 8\n",
    "LITTERS_PER_YEAR = 10\n",
    "GENERATION_LIMIT = 5000\n",
    "\n",
    "# ensure even-number of rats for breeding pairs:\n",
    "if NUM_RATS % 2 != 0:\n",
    "    NUM_RATS += 1\n",
    "\n",
    "def populate(num_rats, min_wt, max_wt, mode_wt):\n",
    "    \"\"\"Initialize a population with a triangular distribution of weights.\"\"\"\n",
    "    return [int(random.triangular(min_wt, max_wt, mode_wt))\n",
    "            for i in range(num_rats)]\n",
    "\n",
    "def fitness(population, goal):\n",
    "    \"\"\"Measure population fitness based on an attribute mean vs target.\"\"\"\n",
    "    ave = statistics.mean(population)\n",
    "    return ave / goal\n",
    "\n",
    "def select(population, to_retain, error):\n",
    "    \"\"\"Cull a population to contain only a specified number of members.\"\"\"\n",
    "    # Create a dictionary with noisy weights as keys and actual weights as values\n",
    "    # Compare with smaller or larger average errors - what's the number of generations to the goal when this is changed?\n",
    "    noisy = {}\n",
    "    for i in range(len(population)):\n",
    "        epsilon = np.random.normal() * error\n",
    "        noisy.update({population[i] + epsilon : population[i]})\n",
    "    sorted_population = [noisy.get(z) for z in sorted(noisy)]\n",
    "    # sorted_population = sorted(population)\n",
    "    to_retain_by_sex = to_retain//2\n",
    "    members_per_sex = len(sorted_population)//2\n",
    "    females = sorted_population[:members_per_sex]\n",
    "    males = sorted_population[members_per_sex:]\n",
    "    selected_females = females[-to_retain_by_sex:]\n",
    "    print(selected_females)\n",
    "    selected_males = males[-to_retain_by_sex:]\n",
    "    print(selected_males)\n",
    "    return selected_males, selected_females\n",
    "\n",
    "def breed(males, females, litter_size):\n",
    "    \"\"\"Crossover genes among members of a population.\"\"\"\n",
    "    random.shuffle(males)\n",
    "    random.shuffle(females)\n",
    "    children = []\n",
    "    for male, female in zip(males, females):\n",
    "        for child in range(litter_size):\n",
    "            child = random.randint(female, male)\n",
    "            children.append(child)\n",
    "    return children\n",
    "\n",
    "def mutate(children, mutate_odds, mutate_min, mutate_max):\n",
    "    \"\"\"Randomly alter rat weights using input odds & fractional changes.\"\"\"\n",
    "    for index, rat in enumerate(children):\n",
    "        if mutate_odds >= random.random():\n",
    "            children[index] = round(rat * random.uniform(mutate_min,\n",
    "                                                         mutate_max))\n",
    "    return children\n",
    "\n",
    "def main():\n",
    "    \"\"\"Initialize population, select, breed, and mutate, display results.\"\"\"\n",
    "    generations = 0\n",
    "\n",
    "    parents = populate(NUM_RATS, INITIAL_MIN_WT, INITIAL_MAX_WT,\n",
    "                       INITIAL_MODE_WT)\n",
    "    print(\"initial population weights = {}\".format(parents))\n",
    "    popl_fitness = fitness(parents, GOAL)\n",
    "    print(\"initial population fitness = {}\".format(popl_fitness))\n",
    "    print(\"number to retain = {}\".format(NUM_RATS))\n",
    "\n",
    "    ave_wt = []\n",
    "\n",
    "    while popl_fitness < 1 and generations < GENERATION_LIMIT:\n",
    "        selected_males, selected_females = select(parents, NUM_RATS, 7)\n",
    "        children = breed(selected_males, selected_females, LITTER_SIZE)\n",
    "        children = mutate(children, MUTATE_ODDS, MUTATE_MIN, MUTATE_MAX)\n",
    "        parents = selected_males + selected_females + children\n",
    "        popl_fitness = fitness(parents, GOAL)\n",
    "        print(\"Generation {} fitness = {:.4f}\".format(generations,\n",
    "                                                      popl_fitness))\n",
    "        ave_wt.append(int(statistics.mean(parents)))\n",
    "        generations += 1\n",
    "\n",
    "    print(\"average weight per generation = {}\".format(ave_wt))\n",
    "    print(\"\\nnumber of generations = {}\".format(generations))\n",
    "    print(\"number of years = {}\".format(int(generations / LITTERS_PER_YEAR)))\n",
    "\n",
    "if __name__ == '__main__':\n",
    "    start_time = time.time()\n",
    "    main()\n",
    "    end_time = time.time()\n",
    "    duration = end_time - start_time\n",
    "    print(\"\\nRuntime for this program was {} seconds.\".format(duration))"
   ]
  },
  {
   "cell_type": "markdown",
   "metadata": {},
   "source": [
    "A curious thing happens: After a certain number of generations (this can have huge variance at error = 7---anywhere from 10 generations to 290 generations) the values of all of the weights of the rats become very similar. This means that the difference in mean weight between the males and the females of the group becomes practically identical, making it inevitable that eventually, a male rat and a female rat will be chosen where the female's weight will be equal to or greater than the male's. Python's random.randint() function does not take kindly to this, since the range must be greater than 0. This means I will have to modify the method to breed children as well."
   ]
  },
  {
   "cell_type": "markdown",
   "metadata": {},
   "source": [
    "As demonstrated below, the errors have to be rather large to make any difference. An error width of 10 has a very similar boxplot to an error width of 0, with the median at about 350 generations and the 25th and 75th percentile around 250 and 450 generations, respectively. However, an error width of 50 makes a rather large difference, moving the median to about 450 generations and increasing the spread of the data significantly (previously, the minimum and maximum values were about 200 generations apart, while here, the minimum and maximum values are about 300 generations apart.\n",
    "\n",
    "The original experiment was limited to 500 generations, or 50 years, so I modified the algorithm to allow for 5000 generations. While this would be impractical for a mad scientist creating ROUS's within their lifetime, it does allow for demonstrating the difference that a larger error creates.\n",
    "\n",
    "With an error width of 100, the median goes up to around 750, with the lowest number of generations near 400 and one of the highest outliers close to 1400.\n",
    "\n",
    "In an attempt to figure out how big the error would have to be to make a difference, I ran another couple of tests with error = 25, error = 15, and error = 20, and it looks like the lowest number out of those that makes a visible difference on the graph is error = 20."
   ]
  },
  {
   "cell_type": "code",
   "execution_count": 5,
   "metadata": {
    "pycharm": {
     "name": "#%%\n"
    }
   },
   "outputs": [],
   "source": [
    "\"\"\"Use genetic algorithm to simulate breeding race of super rats.\"\"\"\n",
    "\n",
    "import time\n",
    "import random\n",
    "import statistics\n",
    "\n",
    "# CONSTANTS (weights in grams)\n",
    "GOAL = 50000\n",
    "NUM_RATS = 20  # number of adult breeding rats in each generation\n",
    "INITIAL_MIN_WT = 200\n",
    "INITIAL_MAX_WT = 600\n",
    "INITIAL_MODE_WT = 300\n",
    "MUTATE_ODDS = 0.01\n",
    "MUTATE_MIN = 0.5\n",
    "MUTATE_MAX = 1.2\n",
    "LITTER_SIZE = 8\n",
    "LITTERS_PER_YEAR = 10\n",
    "GENERATION_LIMIT = 5000\n",
    "\n",
    "# ensure even-number of rats for breeding pairs:\n",
    "if NUM_RATS % 2 != 0:\n",
    "    NUM_RATS += 1\n",
    "\n",
    "def populate(num_rats, min_wt, max_wt, mode_wt):\n",
    "    \"\"\"Initialize a population with a triangular distribution of weights.\"\"\"\n",
    "    return [int(random.triangular(min_wt, max_wt, mode_wt))\n",
    "            for i in range(num_rats)]\n",
    "\n",
    "def fitness(population, goal):\n",
    "    \"\"\"Measure population fitness based on an attribute mean vs target.\"\"\"\n",
    "    ave = statistics.mean(population)\n",
    "    return ave / goal\n",
    "\n",
    "def select(population, to_retain, error):\n",
    "    \"\"\"Cull a population to contain only a specified number of members.\"\"\"\n",
    "    # Create a dictionary with noisy weights as keys and actual weights as values\n",
    "    # Compare with smaller or larger average errors - what's the number of generations to the goal when this is changed?\n",
    "    noisy = {}\n",
    "    for i in range(len(population)):\n",
    "        epsilon = np.random.normal(0, error)\n",
    "        noisy.update({population[i] + epsilon : population[i]})\n",
    "    sorted_population = [noisy.get(z) for z in sorted(noisy)]\n",
    "    # sorted_population = sorted(population)\n",
    "    to_retain_by_sex = to_retain//2\n",
    "    members_per_sex = len(sorted_population)//2\n",
    "    females = sorted_population[:members_per_sex]\n",
    "    males = sorted_population[members_per_sex:]\n",
    "    selected_females = females[-to_retain_by_sex:]\n",
    "    # print(selected_females)\n",
    "    selected_males = males[-to_retain_by_sex:]\n",
    "    # print(selected_males)\n",
    "    return selected_males, selected_females\n",
    "\n",
    "def breed(males, females, litter_size):\n",
    "    \"\"\"Crossover genes among members of a population.\"\"\"\n",
    "    random.shuffle(males)\n",
    "    random.shuffle(females)\n",
    "    children = []\n",
    "    for male, female in zip(males, females):\n",
    "        for child in range(litter_size):\n",
    "            try:\n",
    "                child = random.randint(female, male)\n",
    "            except:\n",
    "                if female > male:\n",
    "                    child = random.randint(male, female)\n",
    "                elif female == male:\n",
    "                    child = female\n",
    "                else:\n",
    "                    child = male\n",
    "            children.append(child)\n",
    "    return children\n",
    "\n",
    "def mutate(children, mutate_odds, mutate_min, mutate_max):\n",
    "    \"\"\"Randomly alter rat weights using input odds & fractional changes.\"\"\"\n",
    "    for index, rat in enumerate(children):\n",
    "        if mutate_odds >= random.random():\n",
    "            children[index] = round(rat * random.uniform(mutate_min,\n",
    "                                                         mutate_max))\n",
    "    return children"
   ]
  },
  {
   "cell_type": "code",
   "execution_count": 6,
   "metadata": {
    "pycharm": {
     "name": "#%%\n"
    }
   },
   "outputs": [],
   "source": [
    "def experiment(error):\n",
    "    \"\"\"Initialize population, select, breed, and mutate, display results.\"\"\"\n",
    "    generations = 0\n",
    "\n",
    "    parents = populate(NUM_RATS, INITIAL_MIN_WT, INITIAL_MAX_WT,\n",
    "                       INITIAL_MODE_WT)\n",
    "    # print(\"initial population weights = {}\".format(parents))\n",
    "    popl_fitness = fitness(parents, GOAL)\n",
    "    # print(\"initial population fitness = {}\".format(popl_fitness))\n",
    "    # print(\"number to retain = {}\".format(NUM_RATS))\n",
    "\n",
    "    ave_wt = []\n",
    "\n",
    "    while popl_fitness < 1 and generations < GENERATION_LIMIT:\n",
    "        selected_males, selected_females = select(parents, NUM_RATS, error)\n",
    "        children = breed(selected_males, selected_females, LITTER_SIZE)\n",
    "        children = mutate(children, MUTATE_ODDS, MUTATE_MIN, MUTATE_MAX)\n",
    "        parents = selected_males + selected_females + children\n",
    "        popl_fitness = fitness(parents, GOAL)\n",
    "        # print(\"Generation {} fitness = {:.4f}\".format(generations,\n",
    "                                                      # popl_fitness))\n",
    "        ave_wt.append(int(statistics.mean(parents)))\n",
    "        generations += 1\n",
    "\n",
    "    # print(\"average weight per generation = {}\".format(ave_wt))\n",
    "    # print(\"\\nnumber of generations = {}\".format(generations))\n",
    "    # print(\"number of years = {}\".format(int(generations / LITTERS_PER_YEAR)))\n",
    "    return generations\n",
    "\n",
    "# if __name__ == '__main__':\n",
    "#     start_time = time.time()\n",
    "#     main()\n",
    "#     end_time = time.time()\n",
    "#     duration = end_time - start_time\n",
    "#     print(\"\\nRuntime for this program was {} seconds.\".format(duration))"
   ]
  },
  {
   "cell_type": "code",
   "execution_count": 7,
   "metadata": {
    "pycharm": {
     "name": "#%%\n"
    }
   },
   "outputs": [
    {
     "data": {
      "text/plain": [
       "{'whiskers': [<matplotlib.lines.Line2D at 0x7f35d489efa0>,\n",
       "  <matplotlib.lines.Line2D at 0x7f35d48b9370>],\n",
       " 'caps': [<matplotlib.lines.Line2D at 0x7f35d48b9700>,\n",
       "  <matplotlib.lines.Line2D at 0x7f35d48b9a90>],\n",
       " 'boxes': [<matplotlib.lines.Line2D at 0x7f35d48929d0>],\n",
       " 'medians': [<matplotlib.lines.Line2D at 0x7f35d48b9e20>],\n",
       " 'fliers': [<matplotlib.lines.Line2D at 0x7f35d40aa1f0>],\n",
       " 'means': []}"
      ]
     },
     "execution_count": 7,
     "metadata": {},
     "output_type": "execute_result"
    },
    {
     "data": {
      "image/png": "[encoded data removed]",
      "text/plain": [
       "<Figure size 432x288 with 1 Axes>"
      ]
     },
     "metadata": {
      "needs_background": "light"
     },
     "output_type": "display_data"
    }
   ],
   "source": [
    "N = 1000\n",
    "error = 0\n",
    "results = [experiment(error) for i in range(N)]\n",
    "# plot.hist(results)\n",
    "plot.boxplot(results)"
   ]
  },
  {
   "cell_type": "code",
   "execution_count": 8,
   "metadata": {
    "pycharm": {
     "name": "#%%\n"
    }
   },
   "outputs": [
    {
     "data": {
      "text/plain": [
       "{'whiskers': [<matplotlib.lines.Line2D at 0x7f35c1c9c460>,\n",
       "  <matplotlib.lines.Line2D at 0x7f35c1c9c7f0>],\n",
       " 'caps': [<matplotlib.lines.Line2D at 0x7f35c1c9cb80>,\n",
       "  <matplotlib.lines.Line2D at 0x7f35c1c9cf10>],\n",
       " 'boxes': [<matplotlib.lines.Line2D at 0x7f35c1c9c0d0>],\n",
       " 'medians': [<matplotlib.lines.Line2D at 0x7f35c1ca82e0>],\n",
       " 'fliers': [<matplotlib.lines.Line2D at 0x7f35c1ca8670>],\n",
       " 'means': []}"
      ]
     },
     "execution_count": 8,
     "metadata": {},
     "output_type": "execute_result"
    },
    {
     "data": {
      "image/png": "[encoded data removed]",
      "text/plain": [
       "<Figure size 432x288 with 1 Axes>"
      ]
     },
     "metadata": {
      "needs_background": "light"
     },
     "output_type": "display_data"
    }
   ],
   "source": [
    "N = 1000\n",
    "error = 10\n",
    "results = [experiment(error) for i in range(N)]\n",
    "# plot.hist(results)\n",
    "plot.boxplot(results)"
   ]
  },
  {
   "cell_type": "code",
   "execution_count": 9,
   "metadata": {
    "pycharm": {
     "name": "#%%\n"
    }
   },
   "outputs": [
    {
     "data": {
      "text/plain": [
       "{'whiskers': [<matplotlib.lines.Line2D at 0x7f35c1bff760>,\n",
       "  <matplotlib.lines.Line2D at 0x7f35c1bffaf0>],\n",
       " 'caps': [<matplotlib.lines.Line2D at 0x7f35c1bffe80>,\n",
       "  <matplotlib.lines.Line2D at 0x7f35c1c07250>],\n",
       " 'boxes': [<matplotlib.lines.Line2D at 0x7f35c1bff3d0>],\n",
       " 'medians': [<matplotlib.lines.Line2D at 0x7f35c1c075e0>],\n",
       " 'fliers': [<matplotlib.lines.Line2D at 0x7f35c1c07970>],\n",
       " 'means': []}"
      ]
     },
     "execution_count": 9,
     "metadata": {},
     "output_type": "execute_result"
    },
    {
     "data": {
      "image/png": "[encoded data removed]",
      "text/plain": [
       "<Figure size 432x288 with 1 Axes>"
      ]
     },
     "metadata": {
      "needs_background": "light"
     },
     "output_type": "display_data"
    }
   ],
   "source": [
    "N = 1000\n",
    "error = 50\n",
    "results = [experiment(error) for i in range(N)]\n",
    "# plot.hist(results)\n",
    "plot.boxplot(results)"
   ]
  },
  {
   "cell_type": "code",
   "execution_count": 10,
   "metadata": {
    "pycharm": {
     "name": "#%%\n"
    }
   },
   "outputs": [
    {
     "data": {
      "text/plain": [
       "{'whiskers': [<matplotlib.lines.Line2D at 0x7f35c1beac40>,\n",
       "  <matplotlib.lines.Line2D at 0x7f35c1beafd0>],\n",
       " 'caps': [<matplotlib.lines.Line2D at 0x7f35c1bf53a0>,\n",
       "  <matplotlib.lines.Line2D at 0x7f35c1bf5730>],\n",
       " 'boxes': [<matplotlib.lines.Line2D at 0x7f35c1bea8b0>],\n",
       " 'medians': [<matplotlib.lines.Line2D at 0x7f35c1bf5ac0>],\n",
       " 'fliers': [<matplotlib.lines.Line2D at 0x7f35c1bf5e50>],\n",
       " 'means': []}"
      ]
     },
     "execution_count": 10,
     "metadata": {},
     "output_type": "execute_result"
    },
    {
     "data": {
      "image/png": "[encoded data removed]",
      "text/plain": [
       "<Figure size 432x288 with 1 Axes>"
      ]
     },
     "metadata": {
      "needs_background": "light"
     },
     "output_type": "display_data"
    }
   ],
   "source": [
    "N = 1000\n",
    "error = 100\n",
    "results = [experiment(error) for i in range(N)]\n",
    "# plot.hist(results)\n",
    "plot.boxplot(results)"
   ]
  },
  {
   "cell_type": "code",
   "execution_count": 15,
   "metadata": {
    "pycharm": {
     "name": "#%%\n"
    }
   },
   "outputs": [
    {
     "data": {
      "text/plain": [
       "{'whiskers': [<matplotlib.lines.Line2D at 0x7f35c19f1130>,\n",
       "  <matplotlib.lines.Line2D at 0x7f35c19f14c0>],\n",
       " 'caps': [<matplotlib.lines.Line2D at 0x7f35c19f1850>,\n",
       "  <matplotlib.lines.Line2D at 0x7f35c19f1be0>],\n",
       " 'boxes': [<matplotlib.lines.Line2D at 0x7f35c19e2d60>],\n",
       " 'medians': [<matplotlib.lines.Line2D at 0x7f35c19f1f70>],\n",
       " 'fliers': [<matplotlib.lines.Line2D at 0x7f35c19fb340>],\n",
       " 'means': []}"
      ]
     },
     "execution_count": 15,
     "metadata": {},
     "output_type": "execute_result"
    },
    {
     "data": {
      "image/png": "[encoded data removed]",
      "text/plain": [
       "<Figure size 432x288 with 1 Axes>"
      ]
     },
     "metadata": {
      "needs_background": "light"
     },
     "output_type": "display_data"
    }
   ],
   "source": [
    "N = 1000\n",
    "error = 20\n",
    "results = [experiment(error) for i in range(N)]\n",
    "# plot.hist(results)\n",
    "plot.boxplot(results)"
   ]
  }
 ],
 "metadata": {
  "kernelspec": {
   "display_name": "Python 3 (ipykernel)",
   "language": "python",
   "name": "python3"
  },
  "language_info": {
   "codemirror_mode": {
    "name": "ipython",
    "version": 3
   },
   "file_extension": ".py",
   "mimetype": "text/x-python",
   "name": "python",
   "nbconvert_exporter": "python",
   "pygments_lexer": "ipython3",
   "version": "3.9.7"
  }
 },
 "nbformat": 4,
 "nbformat_minor": 1
}