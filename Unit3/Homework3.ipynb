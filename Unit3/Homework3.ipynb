{
 "cells": [
  {
   "cell_type": "markdown",
   "source": [
    "# Homework 3\n",
    "\n",
    "Problem 1: Proposals.  Revisit this notebook.  I'd like to evaluate different proposals.  In the notebook we tried two different proposals, a sort of \"global proposal\" (uniform on -10 to 10) and a more local proposal (x + a normal distribution).  Part (a) For the second proposal type, is the convergence better if you change the scale of the normal distribution jump?  Part (b)  What if you change the jump to x +/- 0.001 with equal likelihood?  Convergence is better or worse?"
   ],
   "metadata": {
    "collapsed": false
   }
  },
  {
   "cell_type": "code",
   "execution_count": null,
   "metadata": {
    "collapsed": true
   },
   "outputs": [],
   "source": []
  },
  {
   "cell_type": "markdown",
   "source": [
    "Problem 2: State spaces.  Revisit this notebook.  I'd like you to build a sampler for the Poisson distribution with lambda = 5.  Challenge: the Poisson distribution has a state space which is discrete, not continuous (it's a distribution of counts; we use it frequently in wildlife count data).  Experiment a bit with the proposal distribution."
   ],
   "metadata": {
    "collapsed": false
   }
  }
 ],
 "metadata": {
  "kernelspec": {
   "display_name": "Python 3",
   "language": "python",
   "name": "python3"
  },
  "language_info": {
   "codemirror_mode": {
    "name": "ipython",
    "version": 2
   },
   "file_extension": ".py",
   "mimetype": "text/x-python",
   "name": "python",
   "nbconvert_exporter": "python",
   "pygments_lexer": "ipython2",
   "version": "2.7.6"
  }
 },
 "nbformat": 4,
 "nbformat_minor": 0
}